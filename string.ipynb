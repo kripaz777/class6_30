{
 "cells": [
  {
   "cell_type": "code",
   "execution_count": 1,
   "metadata": {},
   "outputs": [
    {
     "data": {
      "text/plain": [
       "str"
      ]
     },
     "execution_count": 1,
     "metadata": {},
     "output_type": "execute_result"
    }
   ],
   "source": [
    "a = 'Hello World'\n",
    "type(a)"
   ]
  },
  {
   "cell_type": "code",
   "execution_count": 3,
   "metadata": {},
   "outputs": [
    {
     "data": {
      "text/plain": [
       "str"
      ]
     },
     "execution_count": 3,
     "metadata": {},
     "output_type": "execute_result"
    }
   ],
   "source": [
    "a = \"1\"\n",
    "type(a)"
   ]
  },
  {
   "cell_type": "code",
   "execution_count": 4,
   "metadata": {},
   "outputs": [
    {
     "name": "stdout",
     "output_type": "stream",
     "text": [
      "Enter a = 10\n"
     ]
    },
    {
     "data": {
      "text/plain": [
       "str"
      ]
     },
     "execution_count": 4,
     "metadata": {},
     "output_type": "execute_result"
    }
   ],
   "source": [
    "a = input(\"Enter a = \")\n",
    "type(a)"
   ]
  },
  {
   "cell_type": "code",
   "execution_count": 7,
   "metadata": {},
   "outputs": [
    {
     "name": "stdout",
     "output_type": "stream",
     "text": [
      "Hello World\n",
      "Hello World\n",
      "\n"
     ]
    }
   ],
   "source": [
    "a = \"Hello World\\n\"\n",
    "print(a*2)"
   ]
  },
  {
   "cell_type": "code",
   "execution_count": 8,
   "metadata": {},
   "outputs": [
    {
     "data": {
      "text/plain": [
       "'Hello World'"
      ]
     },
     "execution_count": 8,
     "metadata": {},
     "output_type": "execute_result"
    }
   ],
   "source": [
    "a = \"Hello \"\n",
    "b = \"World\"\n",
    "a+b"
   ]
  },
  {
   "cell_type": "code",
   "execution_count": 12,
   "metadata": {},
   "outputs": [
    {
     "data": {
      "text/plain": [
       "'n'"
      ]
     },
     "execution_count": 12,
     "metadata": {},
     "output_type": "execute_result"
    }
   ],
   "source": [
    "a = \"Python\"\n",
    "a[-1]"
   ]
  },
  {
   "cell_type": "code",
   "execution_count": 13,
   "metadata": {},
   "outputs": [
    {
     "data": {
      "text/plain": [
       "'Pyth'"
      ]
     },
     "execution_count": 13,
     "metadata": {},
     "output_type": "execute_result"
    }
   ],
   "source": [
    "a = \"Python\"\n",
    "a[0:4]"
   ]
  },
  {
   "cell_type": "code",
   "execution_count": 14,
   "metadata": {},
   "outputs": [
    {
     "data": {
      "text/plain": [
       "'Pto'"
      ]
     },
     "execution_count": 14,
     "metadata": {},
     "output_type": "execute_result"
    }
   ],
   "source": [
    "a = \"Python\"\n",
    "a[0:5:2]"
   ]
  },
  {
   "cell_type": "code",
   "execution_count": 15,
   "metadata": {},
   "outputs": [
    {
     "name": "stdout",
     "output_type": "stream",
     "text": [
      "Enter name = Ram\n",
      "Enter age = 34\n",
      "Enter add = Kathmandu\n",
      "Hello my name is Ram I am 34 I am from Kathmandu\n"
     ]
    }
   ],
   "source": [
    "name = input(\"Enter name = \")\n",
    "age = int(input(\"Enter age = \"))\n",
    "add = input(\"Enter add = \")\n",
    "\n",
    "info = \"Hello my name is \" + name +\" I am \" + str(age) + \" I am from \" + add \n",
    "print(info)"
   ]
  },
  {
   "cell_type": "code",
   "execution_count": 18,
   "metadata": {},
   "outputs": [
    {
     "name": "stdout",
     "output_type": "stream",
     "text": [
      "Hello my name is Ram.I am 45.I am from Patan.My hobbies are ['Playing', 'Cycling', 'Online games']\n"
     ]
    }
   ],
   "source": [
    "# String formatting\n",
    "name = \"Ram\"\n",
    "age = 45\n",
    "add = \"Patan\"\n",
    "hobby = [\"Playing\",\"Cycling\",\"Online games\"]\n",
    "output = f\"Hello my name is {name}.I am {age}.I am from {add}.My hobbies are {hobby}\"\n",
    "print(output)"
   ]
  },
  {
   "cell_type": "code",
   "execution_count": 19,
   "metadata": {},
   "outputs": [
    {
     "name": "stdout",
     "output_type": "stream",
     "text": [
      "Hello my name is Ram.I am 45.I am from Patan\n"
     ]
    }
   ],
   "source": [
    "# String formatting\n",
    "name = \"Ram\"\n",
    "age = 45\n",
    "add = \"Patan\"\n",
    "output = f\"Hello my name is {name}.I am {age}.I am from {add}\"\n",
    "print(output)"
   ]
  },
  {
   "cell_type": "code",
   "execution_count": 20,
   "metadata": {},
   "outputs": [
    {
     "data": {
      "text/plain": [
       "'HELLO MY NAME IS RAM.I AM 45.I AM FROM PATAN'"
      ]
     },
     "execution_count": 20,
     "metadata": {},
     "output_type": "execute_result"
    }
   ],
   "source": [
    "a = \"Hello my name is Ram.I am 45.I am from Patan\"\n",
    "a.upper()"
   ]
  },
  {
   "cell_type": "code",
   "execution_count": 21,
   "metadata": {},
   "outputs": [
    {
     "data": {
      "text/plain": [
       "'hello my name is ram.i am 45.i am from patan'"
      ]
     },
     "execution_count": 21,
     "metadata": {},
     "output_type": "execute_result"
    }
   ],
   "source": [
    "a = \"Hello my name is Ram.I am 45.I am from Patan\"\n",
    "a.lower()"
   ]
  },
  {
   "cell_type": "code",
   "execution_count": 22,
   "metadata": {},
   "outputs": [
    {
     "name": "stdout",
     "output_type": "stream",
     "text": [
      "Yes\n"
     ]
    }
   ],
   "source": [
    "# Search\n",
    "a = 'hello my name is Ram.i am 45.i am from patan'\n",
    "if \"Ram\" in a:\n",
    "    print(\"Yes\")\n",
    "else:\n",
    "    print(\"No\")"
   ]
  },
  {
   "cell_type": "code",
   "execution_count": 25,
   "metadata": {},
   "outputs": [
    {
     "name": "stdout",
     "output_type": "stream",
     "text": [
      "Enter value for search = hello\n",
      "Yes\n"
     ]
    }
   ],
   "source": [
    "# Search\n",
    "a = 'hello my name is Ram.i am 45.i am from patan'\n",
    "search = input(\"Enter value for search = \")\n",
    "if search in a:\n",
    "    print(\"Yes\")\n",
    "else:\n",
    "    print(\"No\")"
   ]
  },
  {
   "cell_type": "code",
   "execution_count": 26,
   "metadata": {},
   "outputs": [
    {
     "data": {
      "text/plain": [
       "1"
      ]
     },
     "execution_count": 26,
     "metadata": {},
     "output_type": "execute_result"
    }
   ],
   "source": [
    "# count()\n",
    "a = 'hello my name is Ram.i am 45.i am from patan'\n",
    "a.count('hello')"
   ]
  },
  {
   "cell_type": "code",
   "execution_count": 28,
   "metadata": {},
   "outputs": [
    {
     "name": "stdout",
     "output_type": "stream",
     "text": [
      "Enter value for search = name\n",
      "Yes 1\n"
     ]
    }
   ],
   "source": [
    "# Search\n",
    "a = 'hello my name is Ram.i am 45.i am from patan'\n",
    "search = input(\"Enter value for search = \")\n",
    "\n",
    "if search in a:\n",
    "    print(\"Yes\",a.count(search))\n",
    "else:\n",
    "    print(\"No\")"
   ]
  },
  {
   "cell_type": "code",
   "execution_count": 29,
   "metadata": {},
   "outputs": [
    {
     "name": "stdout",
     "output_type": "stream",
     "text": [
      "Enter how many values = 2\n",
      "Enter name = ram\n",
      "Enter physics marks= 45\n",
      "Enter chemistry marks= 65\n",
      "Enter math marks= 34\n",
      "Enter english marks= 76\n",
      "Enter nepali marks= 43\n",
      "Enter name = 67\n",
      "Enter physics marks= 45\n",
      "Enter chemistry marks= 34\n",
      "Enter math marks= 76\n",
      "Enter english marks= 89\n",
      "Enter nepali marks= 43\n",
      "ram 45 65 34 76 43\n",
      "67 45 34 76 89 43\n",
      "\n"
     ]
    }
   ],
   "source": [
    "info = \"\"\n",
    "n = int(input(\"Enter how many values = \"))\n",
    "for i in range(n):\n",
    "    name = input(\"Enter name = \")\n",
    "    physics = int(input(\"Enter physics marks= \"))\n",
    "    chemistry = int(input(\"Enter chemistry marks= \"))\n",
    "    math = int(input(\"Enter math marks= \"))\n",
    "    english = int(input(\"Enter english marks= \"))\n",
    "    nepali = int(input(\"Enter nepali marks= \"))\n",
    "    \n",
    "    marks = f\"{name} {physics} {chemistry} {math} {english} {nepali}\\n\"\n",
    "    info = info+marks\n",
    "    \n",
    "print(info)"
   ]
  },
  {
   "cell_type": "code",
   "execution_count": 31,
   "metadata": {},
   "outputs": [
    {
     "data": {
      "text/plain": [
       "'hello my Name is Ram.i am 45.i am from patan'"
      ]
     },
     "execution_count": 31,
     "metadata": {},
     "output_type": "execute_result"
    }
   ],
   "source": [
    "# replace()\n",
    "a = 'hello my name is Ram.i am 45.i am from patan'\n",
    "a.replace('name','Name')"
   ]
  },
  {
   "cell_type": "code",
   "execution_count": 32,
   "metadata": {},
   "outputs": [
    {
     "data": {
      "text/plain": [
       "'hello my name is Ram .i am 45.i am from patan'"
      ]
     },
     "execution_count": 32,
     "metadata": {},
     "output_type": "execute_result"
    }
   ],
   "source": [
    "# replace()\n",
    "a = 'hello my name is Ram Prasad.i am 45.i am from patan'\n",
    "a.replace('Prasad','')"
   ]
  },
  {
   "cell_type": "code",
   "execution_count": 33,
   "metadata": {},
   "outputs": [
    {
     "data": {
      "text/plain": [
       "'hello my name is Ram Prasad.i am 45.i am from patan'"
      ]
     },
     "execution_count": 33,
     "metadata": {},
     "output_type": "execute_result"
    }
   ],
   "source": [
    "a"
   ]
  },
  {
   "cell_type": "code",
   "execution_count": 34,
   "metadata": {},
   "outputs": [
    {
     "name": "stdout",
     "output_type": "stream",
     "text": [
      "hello my name is Ram .i am 45.i am from patan\n"
     ]
    }
   ],
   "source": [
    "# replace()\n",
    "a = 'hello my name is Ram Prasad.i am 45.i am from patan'\n",
    "a = a.replace('Prasad','')\n",
    "print(a)"
   ]
  },
  {
   "cell_type": "code",
   "execution_count": 36,
   "metadata": {},
   "outputs": [
    {
     "name": "stdout",
     "output_type": "stream",
     "text": [
      "Enter what to search =Patan\n",
      "Enter replace value =Ktm\n",
      "hello my name is Ram Prasad.i am 45.i am from patan\n"
     ]
    }
   ],
   "source": [
    "# replace()\n",
    "a = 'hello my name is Ram Prasad.i am 45.i am from patan'\n",
    "search = input(\"Enter what to search =\")\n",
    "replace = input(\"Enter replace value =\")\n",
    "a = a.replace(search,replace)\n",
    "print(a)"
   ]
  },
  {
   "cell_type": "code",
   "execution_count": null,
   "metadata": {},
   "outputs": [],
   "source": [
    "# replace()\n",
    "a = 'hello my name is Ram Prasad.i am 45.i am from patan'\n",
    "search = input(\"Enter what to search =\")\n",
    "replace = input(\"Enter replace value =\")\n",
    "a = a.replace(search,replace)\n",
    "print(a)"
   ]
  },
  {
   "cell_type": "code",
   "execution_count": 37,
   "metadata": {},
   "outputs": [
    {
     "name": "stdout",
     "output_type": "stream",
     "text": [
      "Enter value for search = ram\n",
      "Yes 1\n"
     ]
    }
   ],
   "source": [
    "# Search\n",
    "a = 'hello my name is Ram.i am 45.i am from patan'.lower()\n",
    "search = input(\"Enter value for search = \").lower()\n",
    "\n",
    "if search in a:\n",
    "    print(\"Yes\",a.count(search))\n",
    "else:\n",
    "    print(\"No\")"
   ]
  },
  {
   "cell_type": "code",
   "execution_count": 40,
   "metadata": {},
   "outputs": [
    {
     "name": "stdout",
     "output_type": "stream",
     "text": [
      "Enter what to search =ram\n",
      "Enter replace value =Shyam\n",
      "hello my name is Shyam prasad.i am 45.i am from patan\n"
     ]
    }
   ],
   "source": [
    "# replace()\n",
    "a = 'hello my name is Ram Prasad.i am 45.i am from patan'.lower()\n",
    "search = input(\"Enter what to search =\").lower()\n",
    "replace = input(\"Enter replace value =\")\n",
    "a = a.replace(search,replace)\n",
    "print(a)"
   ]
  },
  {
   "cell_type": "code",
   "execution_count": 41,
   "metadata": {},
   "outputs": [
    {
     "name": "stdout",
     "output_type": "stream",
     "text": [
      "Enter how many values = 2\n",
      "Enter name = Ram\n",
      "Enter physics marks= 89\n",
      "Enter chemistry marks= 90\n",
      "Enter math marks= 78\n",
      "Enter english marks= 90\n",
      "Enter nepali marks= 89\n",
      "Enter name = Shyam\n",
      "Enter physics marks= 67\n",
      "Enter chemistry marks= 89\n",
      "Enter math marks= 56\n",
      "Enter english marks= 90\n",
      "Enter nepali marks= 78\n",
      "Ram 89 90 78 90 89\n",
      "Shyam 67 89 56 90 78\n",
      "\n"
     ]
    }
   ],
   "source": [
    "info = \"\"\n",
    "n = int(input(\"Enter how many values = \"))\n",
    "for i in range(n):\n",
    "    name = input(\"Enter name = \")\n",
    "    physics = int(input(\"Enter physics marks= \"))\n",
    "    chemistry = int(input(\"Enter chemistry marks= \"))\n",
    "    math = int(input(\"Enter math marks= \"))\n",
    "    english = int(input(\"Enter english marks= \"))\n",
    "    nepali = int(input(\"Enter nepali marks= \"))\n",
    "    \n",
    "    marks = f\"{name} {physics} {chemistry} {math} {english} {nepali}\\n\"\n",
    "    info = info+marks\n",
    "    \n",
    "print(info)"
   ]
  },
  {
   "cell_type": "code",
   "execution_count": 43,
   "metadata": {},
   "outputs": [
    {
     "name": "stdout",
     "output_type": "stream",
     "text": [
      "Ram 89 90 78 90 89\n",
      "Shyam 67 89 56 90 78\n",
      "\n"
     ]
    }
   ],
   "source": [
    "print(info)"
   ]
  },
  {
   "cell_type": "code",
   "execution_count": 47,
   "metadata": {},
   "outputs": [
    {
     "name": "stdout",
     "output_type": "stream",
     "text": [
      "Ram 89 90 78 90 98\n",
      "Shyam 67 89 56 90 78\n",
      "\n"
     ]
    }
   ],
   "source": [
    "print(info.replace('90 89','90 98'))"
   ]
  },
  {
   "cell_type": "code",
   "execution_count": null,
   "metadata": {},
   "outputs": [],
   "source": []
  }
 ],
 "metadata": {
  "kernelspec": {
   "display_name": "Python 3",
   "language": "python",
   "name": "python3"
  },
  "language_info": {
   "codemirror_mode": {
    "name": "ipython",
    "version": 3
   },
   "file_extension": ".py",
   "mimetype": "text/x-python",
   "name": "python",
   "nbconvert_exporter": "python",
   "pygments_lexer": "ipython3",
   "version": "3.5.5"
  }
 },
 "nbformat": 4,
 "nbformat_minor": 2
}
