{
 "cells": [
  {
   "cell_type": "code",
   "execution_count": 1,
   "metadata": {},
   "outputs": [],
   "source": [
    "# @property\n",
    "# @classmethod decorators\n",
    "# @staticmethod decorators"
   ]
  },
  {
   "cell_type": "code",
   "execution_count": 2,
   "metadata": {},
   "outputs": [
    {
     "name": "stdout",
     "output_type": "stream",
     "text": [
      "Hello I am Ram and I am 34 years old.\n",
      "Kathmandu\n"
     ]
    }
   ],
   "source": [
    "class Student:\n",
    "    def __init__(self,name,age):\n",
    "        self.name = name\n",
    "        self.age = age\n",
    "    def hello(self):\n",
    "        print(f\"Hello I am {self.name} and I am {self.age} years old.\")\n",
    "        \n",
    "    @staticmethod\n",
    "    def address(add):\n",
    "        print(add)\n",
    "        \n",
    "obj = Student(\"Ram\",34)\n",
    "obj.hello()\n",
    "obj.address(\"Kathmandu\")"
   ]
  },
  {
   "cell_type": "code",
   "execution_count": 17,
   "metadata": {},
   "outputs": [
    {
     "name": "stdout",
     "output_type": "stream",
     "text": [
      "Ram 34\n",
      "Sita 50\n",
      "nabin 23\n",
      "Hello I am Sita and I am 50 years old. I am from.\n"
     ]
    }
   ],
   "source": [
    "class Student:\n",
    "    def __init__(self,name,age):\n",
    "        self.name = name\n",
    "        self.age = age\n",
    "        print(self.name,self.age)\n",
    "    def hello(self):\n",
    "        print(f\"Hello I am {self.name} and I am {self.age} years old. I am from.\")\n",
    "        \n",
    "    @classmethod\n",
    "    def info(cls,name,age):\n",
    "        return cls(name,age)\n",
    "    \n",
    "    @staticmethod\n",
    "    def address(add):\n",
    "        print(add)\n",
    "        \n",
    "obj = Student(\"Ram\",34)\n",
    "obj1 = Student(\"Sita\",50)\n",
    "\n",
    "\n",
    "obj1.info(\"nabin\",23)\n",
    "obj1.hello()"
   ]
  },
  {
   "cell_type": "code",
   "execution_count": null,
   "metadata": {},
   "outputs": [],
   "source": []
  }
 ],
 "metadata": {
  "kernelspec": {
   "display_name": "Python 3",
   "language": "python",
   "name": "python3"
  },
  "language_info": {
   "codemirror_mode": {
    "name": "ipython",
    "version": 3
   },
   "file_extension": ".py",
   "mimetype": "text/x-python",
   "name": "python",
   "nbconvert_exporter": "python",
   "pygments_lexer": "ipython3",
   "version": "3.7.1"
  }
 },
 "nbformat": 4,
 "nbformat_minor": 2
}
