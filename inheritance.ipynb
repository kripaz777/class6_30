{
 "cells": [
  {
   "cell_type": "code",
   "execution_count": 1,
   "metadata": {},
   "outputs": [
    {
     "name": "stdout",
     "output_type": "stream",
     "text": [
      "Hello my name is Nabin.I am from Kathmandu.My no is 9856554554\n"
     ]
    }
   ],
   "source": [
    "class Profile:\n",
    "    def __init__(self,name,address,phone):\n",
    "        self.name = name\n",
    "        self.address = address\n",
    "        self.phone = phone\n",
    "        \n",
    "class Hr(Profile):\n",
    "    def information(self):\n",
    "        print(f\"Hello my name is {self.name}.I am from {self.address}.My no is {self.phone}\")\n",
    "        \n",
    "x = Hr(\"Nabin\",\"Kathmandu\",\"9856554554\")\n",
    "x.information()"
   ]
  },
  {
   "cell_type": "code",
   "execution_count": 3,
   "metadata": {},
   "outputs": [
    {
     "name": "stdout",
     "output_type": "stream",
     "text": [
      "Hello my name is Nabin.I am from Kathmandu.My no is 9856554554\n"
     ]
    }
   ],
   "source": [
    "class Profile:\n",
    "    def __init__(self,name,address):\n",
    "        self.name = name\n",
    "        self.address = address\n",
    "        \n",
    "        \n",
    "class Hr(Profile):\n",
    "    def __init__(self,name,address,phone):\n",
    "        Profile.__init__(self,name,address)\n",
    "        self.phone = phone\n",
    "        \n",
    "        \n",
    "    def information(self):\n",
    "        print(f\"Hello my name is {self.name}.I am from {self.address}.My no is {self.phone}\")\n",
    "        \n",
    "x = Hr(\"Nabin\",\"Kathmandu\",\"9856554554\")\n",
    "x.information()"
   ]
  },
  {
   "cell_type": "code",
   "execution_count": 1,
   "metadata": {},
   "outputs": [
    {
     "name": "stdout",
     "output_type": "stream",
     "text": [
      "Hello my name is Nabin.My salary is 100000.My no is 9856554554\n"
     ]
    }
   ],
   "source": [
    "class Profile:\n",
    "    def __init__(self,name):\n",
    "        self.name = name\n",
    "        \n",
    "class Salary(Profile):\n",
    "    def __init__(self,salary):\n",
    "        self.salary = salary\n",
    "    \n",
    "    \n",
    "class Hr(Salary):\n",
    "    def __init__(self,name,salary,phone):\n",
    "        Profile.__init__(self,name)\n",
    "        Salary.__init__(self,salary)\n",
    "        self.phone = phone\n",
    "        \n",
    "        \n",
    "    def information(self):\n",
    "        print(f\"Hello my name is {self.name}.My salary is {self.salary}.My no is {self.phone}\")\n",
    "        \n",
    "x = Hr(\"Nabin\",100000,\"9856554554\")\n",
    "x.information()"
   ]
  },
  {
   "cell_type": "code",
   "execution_count": 6,
   "metadata": {},
   "outputs": [
    {
     "name": "stdout",
     "output_type": "stream",
     "text": [
      "This is class C\n"
     ]
    }
   ],
   "source": [
    "class A:\n",
    "    def a(self):\n",
    "        print(\"I am class A\")\n",
    "    \n",
    "class B(A):\n",
    "    def b(self):\n",
    "        print(\"This is class B\")\n",
    "    \n",
    "class C(B):\n",
    "    def c(self):\n",
    "        print(\"This is class C\")\n",
    "    \n",
    "x = C()\n",
    "x.c()"
   ]
  },
  {
   "cell_type": "code",
   "execution_count": 6,
   "metadata": {},
   "outputs": [
    {
     "name": "stdout",
     "output_type": "stream",
     "text": [
      "Hello my name is Nabin.My salary is 100000.My no is 9856554554\n"
     ]
    }
   ],
   "source": [
    "class Profile:\n",
    "    def __init__(self,name):\n",
    "        self.name = name\n",
    "        \n",
    "class Salary:\n",
    "    def __init__(self,salary):\n",
    "        self.salary = salary\n",
    "    \n",
    "    \n",
    "class Hr(Profile,Salary):\n",
    "    def __init__(self,name,salary,phone):\n",
    "        Profile.__init__(self,name)\n",
    "        Salary.__init__(self,salary)\n",
    "        self.phone = phone\n",
    "        \n",
    "        \n",
    "    def information(self):\n",
    "        print(f\"Hello my name is {self.name}.My salary is {self.salary}.My no is {self.phone}\")\n",
    "        \n",
    "x = Hr(\"Nabin\",100000,\"9856554554\")\n",
    "x.information()"
   ]
  },
  {
   "cell_type": "code",
   "execution_count": 19,
   "metadata": {},
   "outputs": [
    {
     "ename": "TypeError",
     "evalue": "__init__() missing 1 required positional argument: 'name'",
     "output_type": "error",
     "traceback": [
      "\u001b[1;31m---------------------------------------------------------------------------\u001b[0m",
      "\u001b[1;31mTypeError\u001b[0m                                 Traceback (most recent call last)",
      "\u001b[1;32m<ipython-input-19-01a0431967f8>\u001b[0m in \u001b[0;36m<module>\u001b[1;34m\u001b[0m\n\u001b[0;32m     20\u001b[0m \u001b[0mx\u001b[0m \u001b[1;33m=\u001b[0m \u001b[0mProfile\u001b[0m\u001b[1;33m(\u001b[0m\u001b[1;34m\"Ram\"\u001b[0m\u001b[1;33m)\u001b[0m\u001b[1;33m\u001b[0m\u001b[1;33m\u001b[0m\u001b[0m\n\u001b[0;32m     21\u001b[0m \u001b[0my\u001b[0m \u001b[1;33m=\u001b[0m \u001b[0mSalary\u001b[0m\u001b[1;33m(\u001b[0m\u001b[1;36m1000\u001b[0m\u001b[1;33m)\u001b[0m\u001b[1;33m\u001b[0m\u001b[1;33m\u001b[0m\u001b[0m\n\u001b[1;32m---> 22\u001b[1;33m \u001b[0mz\u001b[0m \u001b[1;33m=\u001b[0m \u001b[0mHr\u001b[0m\u001b[1;33m(\u001b[0m\u001b[1;33m)\u001b[0m\u001b[1;33m\u001b[0m\u001b[1;33m\u001b[0m\u001b[0m\n\u001b[0m\u001b[0;32m     23\u001b[0m \u001b[0mz\u001b[0m\u001b[1;33m.\u001b[0m\u001b[0minformation\u001b[0m\u001b[1;33m(\u001b[0m\u001b[1;33m)\u001b[0m\u001b[1;33m\u001b[0m\u001b[1;33m\u001b[0m\u001b[0m\n",
      "\u001b[1;31mTypeError\u001b[0m: __init__() missing 1 required positional argument: 'name'"
     ]
    }
   ],
   "source": [
    "class Profile:\n",
    "    def __init__(self,name):\n",
    "        self.name = name\n",
    "        \n",
    "class Salary:\n",
    "    def __init__(self,salary):\n",
    "        self.salary = salary\n",
    "    \n",
    "    \n",
    "class Hr(Profile):\n",
    "#     def __init__(self,name,salary,phone):\n",
    "#         Profile.__init__(self,name)\n",
    "#         Salary.__init__(self,salary)\n",
    "#         self.phone = phone\n",
    "        \n",
    "        \n",
    "    def information(self):\n",
    "        print(f\"Hello my name is {self.name}\")\n",
    "        \n",
    "x = Profile(\"Ram\")\n",
    "y = Salary(1000)\n",
    "z = Hr()\n",
    "z.information()"
   ]
  },
  {
   "cell_type": "code",
   "execution_count": 5,
   "metadata": {},
   "outputs": [
    {
     "name": "stdout",
     "output_type": "stream",
     "text": [
      "Hello my name is Nabin.I am 30 I am I am from Kathmandu.My no is 9856554554.\n",
      "30\n"
     ]
    }
   ],
   "source": [
    "# super()\n",
    "class Profile:\n",
    "    def __init__(self,name,address,phone):\n",
    "        self.name = name\n",
    "        self.address = address\n",
    "        self.phone = phone\n",
    "        \n",
    "    def age(self):\n",
    "        return 30\n",
    "        \n",
    "class Hr(Profile):\n",
    "    def information(self):\n",
    "        print(f\"Hello my name is {self.name}.I am {super().age()}. I am from {self.address}.My no is {self.phone}.\")\n",
    "    def my_age(self):\n",
    "        print(super().age())\n",
    "        \n",
    "x = Hr(\"Nabin\",\"Kathmandu\",\"9856554554\")\n",
    "x.information()\n",
    "x.my_age()"
   ]
  },
  {
   "cell_type": "code",
   "execution_count": 8,
   "metadata": {},
   "outputs": [
    {
     "name": "stdout",
     "output_type": "stream",
     "text": [
      "Hello my name is Nabin.I am 40. I am from Kathmandu.My no is 9856554554.\n"
     ]
    }
   ],
   "source": [
    "# super()\n",
    "class Profile:\n",
    "    def __init__(self,name,address,phone,age):\n",
    "        self.name = name\n",
    "        self.address = address\n",
    "        self.phone = phone\n",
    "        self.age = age\n",
    "        \n",
    "    def information(self):\n",
    "        return f\"Hello my name is {self.name}.I am {self.age}. I am from {self.address}.My no is {self.phone}.\"\n",
    "        \n",
    "class Hr(Profile):\n",
    "    \n",
    "    def my_script(self):\n",
    "        print(super().information())\n",
    "        \n",
    "x = Hr(\"Nabin\",\"Kathmandu\",\"9856554554\",40)\n",
    "x.information()\n",
    "x.my_script()"
   ]
  },
  {
   "cell_type": "code",
   "execution_count": 13,
   "metadata": {},
   "outputs": [
    {
     "name": "stdout",
     "output_type": "stream",
     "text": [
      "Hello my name is Ram.I am 30. I am from Patan.My no is 9856554543\n",
      "Hello my name is Nabin.I am 40. I am from Kathmandu.My no is 9856554554\n"
     ]
    }
   ],
   "source": [
    "# super()\n",
    "class Profile:\n",
    "    def __init__(self,name,address,phone,age):\n",
    "        self.name = name\n",
    "        self.address = address\n",
    "        self.phone = phone\n",
    "        self.age = age\n",
    "        \n",
    "    def information(self):\n",
    "        return f\"Hello my name is {self.name}.I am {self.age}. I am from {self.address}.My no is {self.phone}\"\n",
    "    \n",
    "    def print_information(self):\n",
    "        print(f\"Hello my name is {self.name}.I am {self.age}. I am from {self.address}.My no is {self.phone}\")\n",
    "        \n",
    "class Hr(Profile):\n",
    "    \n",
    "    def my_script(self):\n",
    "        print(super().information())\n",
    "        \n",
    "x = Hr(\"Nabin\",\"Kathmandu\",\"9856554554\",40)\n",
    "y = Profile(\"Ram\",\"Patan\",\"9856554543\",\"30\")\n",
    "y.print_information()\n",
    "# print(x.information())\n",
    "x.my_script()"
   ]
  },
  {
   "cell_type": "code",
   "execution_count": null,
   "metadata": {},
   "outputs": [],
   "source": []
  }
 ],
 "metadata": {
  "kernelspec": {
   "display_name": "Python 3",
   "language": "python",
   "name": "python3"
  },
  "language_info": {
   "codemirror_mode": {
    "name": "ipython",
    "version": 3
   },
   "file_extension": ".py",
   "mimetype": "text/x-python",
   "name": "python",
   "nbconvert_exporter": "python",
   "pygments_lexer": "ipython3",
   "version": "3.7.1"
  }
 },
 "nbformat": 4,
 "nbformat_minor": 2
}
