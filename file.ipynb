{
 "cells": [
  {
   "cell_type": "code",
   "execution_count": 1,
   "metadata": {},
   "outputs": [],
   "source": [
    "# r\n",
    "# a\n",
    "# w\n",
    "# x\n",
    "# open('<file_name>','<mode>')"
   ]
  },
  {
   "cell_type": "code",
   "execution_count": 2,
   "metadata": {},
   "outputs": [],
   "source": [
    "b = open('class6pm.txt','x')\n",
    "b.close()"
   ]
  },
  {
   "cell_type": "code",
   "execution_count": 3,
   "metadata": {},
   "outputs": [
    {
     "name": "stdout",
     "output_type": "stream",
     "text": [
      "The File is already there.\n"
     ]
    }
   ],
   "source": [
    "try:\n",
    "    b = open('class6pm.txt','x')\n",
    "    b.close()\n",
    "except:\n",
    "    print(\"The File is already there.\")"
   ]
  },
  {
   "cell_type": "code",
   "execution_count": 5,
   "metadata": {},
   "outputs": [
    {
     "name": "stdout",
     "output_type": "stream",
     "text": [
      "1.Hello World\n",
      "2.Hello World\n",
      "3.Hello World\n",
      "4.Hello World\n",
      "5.Hello World\n",
      "6.Hello World\n"
     ]
    }
   ],
   "source": [
    "b = open('class6pm.txt','r')\n",
    "print(b.read())\n",
    "b.close()"
   ]
  },
  {
   "cell_type": "code",
   "execution_count": 7,
   "metadata": {},
   "outputs": [
    {
     "name": "stdout",
     "output_type": "stream",
     "text": [
      "<class 'str'>\n"
     ]
    }
   ],
   "source": [
    "b = open('class6pm.txt','r')\n",
    "x = b.read()\n",
    "print(type(x))\n",
    "b.close()"
   ]
  },
  {
   "cell_type": "code",
   "execution_count": 17,
   "metadata": {},
   "outputs": [
    {
     "name": "stdout",
     "output_type": "stream",
     "text": [
      "1.Hello World\n",
      "\n",
      "2.Hello World\n",
      "\n"
     ]
    }
   ],
   "source": [
    "b = open('class6pm.txt','r')\n",
    "\n",
    "# y = b.read(25)\n",
    "# print(y)\n",
    "z = b.readline()\n",
    "print(z)\n",
    "print(b.readline())\n",
    "b.close()"
   ]
  },
  {
   "cell_type": "code",
   "execution_count": 1,
   "metadata": {},
   "outputs": [
    {
     "name": "stdout",
     "output_type": "stream",
     "text": [
      "Enter line no = 5\n",
      "5.Hello World\n",
      "\n"
     ]
    }
   ],
   "source": [
    "b = open('class6pm.txt','r')\n",
    "n = int(input(\"Enter line no = \"))\n",
    "for i in range(1,6):\n",
    "    if i == n:\n",
    "        print(b.readline())\n",
    "    b.readline()\n",
    "b.close()"
   ]
  },
  {
   "cell_type": "code",
   "execution_count": 2,
   "metadata": {},
   "outputs": [],
   "source": [
    "# writing in files\n",
    "b = open('class6pm.txt','a')\n",
    "b.write('\\n7.Hello World')\n",
    "b.close()"
   ]
  },
  {
   "cell_type": "code",
   "execution_count": 3,
   "metadata": {},
   "outputs": [
    {
     "name": "stdout",
     "output_type": "stream",
     "text": [
      "Enter how many values = 2\n",
      "Enter name = Ra\n",
      "Enter physics marks= 89\n",
      "Enter chemistry marks= 78\n",
      "Enter math marks= 78\n",
      "Enter english marks= 90\n",
      "Enter nepali marks= 78\n",
      "Enter name = 56\n",
      "Enter physics marks= 98\n",
      "Enter chemistry marks= 76\n",
      "Enter math marks= 234\n",
      "Enter english marks= 43\n",
      "Enter nepali marks= 45\n",
      "Ra 89 78 78 90 78\n",
      "56 98 76 234 43 45\n",
      "\n"
     ]
    }
   ],
   "source": [
    "info = \"\"\n",
    "n = int(input(\"Enter how many values = \"))\n",
    "for i in range(n):\n",
    "    name = input(\"Enter name = \")\n",
    "    physics = int(input(\"Enter physics marks= \"))\n",
    "    chemistry = int(input(\"Enter chemistry marks= \"))\n",
    "    math = int(input(\"Enter math marks= \"))\n",
    "    english = int(input(\"Enter english marks= \"))\n",
    "    nepali = int(input(\"Enter nepali marks= \"))\n",
    "    \n",
    "    marks = f\"{name} {physics} {chemistry} {math} {english} {nepali}\\n\"\n",
    "    info = info+marks\n",
    "    \n",
    "print(info)\n",
    "b = open('class6pm1.txt','a')\n",
    "b.write(info)\n",
    "b.close()"
   ]
  },
  {
   "cell_type": "code",
   "execution_count": 13,
   "metadata": {},
   "outputs": [
    {
     "name": "stdout",
     "output_type": "stream",
     "text": [
      "Ra 89 78 78 90 78\n",
      "56 98 76 234 43 45\n",
      "\n",
      "['Ra', '89', '78', '78', '90', '78']\n",
      "['56', '98', '76', '234', '43', '45']\n",
      "[['Ra', '89', '78', '78', '90', '78'], ['56', '98', '76', '234', '43', '45']]\n"
     ]
    }
   ],
   "source": [
    "output = []\n",
    "b = open('class6pm1.txt','r')\n",
    "x = b.read()\n",
    "print(x)\n",
    "y = x.split('\\n')\n",
    "y = y[0:-1]\n",
    "n = len(y)\n",
    "for i in range(n):\n",
    "    z = y[i].split()\n",
    "    print(z)\n",
    "    output.append(z)\n",
    "b.close()\n",
    "print(output)"
   ]
  },
  {
   "cell_type": "code",
   "execution_count": 16,
   "metadata": {},
   "outputs": [
    {
     "name": "stdout",
     "output_type": "stream",
     "text": [
      "Yes 1\n"
     ]
    }
   ],
   "source": [
    "b = open('class6pm1.txt','r')\n",
    "x = b.read()\n",
    "if \"Ra\" in x:\n",
    "    print(\"Yes\",x.count(\"Ra\"))\n",
    "else:\n",
    "    print(\"No\")"
   ]
  },
  {
   "cell_type": "code",
   "execution_count": 22,
   "metadata": {},
   "outputs": [
    {
     "name": "stdout",
     "output_type": "stream",
     "text": [
      "Enter value for search = Ram\n",
      "Enter value for replace\n",
      "Yes 1\n"
     ]
    }
   ],
   "source": [
    "# Search and replace\n",
    "b = open('class6pm1.txt','r')\n",
    "x = b.read()\n",
    "b.close()\n",
    "search = input(\"Enter value for search = \")\n",
    "replace = input(\"Enter value for replace\")\n",
    "if search in x:\n",
    "    print(\"Yes\",x.count(search))\n",
    "    y = x.replace(search,replace)\n",
    "    b = open('class6pm1.txt','w')\n",
    "    x = b.write(y)\n",
    "    b.close()\n",
    "else:\n",
    "    print(\"No\")"
   ]
  },
  {
   "cell_type": "code",
   "execution_count": 27,
   "metadata": {},
   "outputs": [],
   "source": [
    "import os\n",
    "if os.path.exists('untitled.txt'):\n",
    "    os.remove('untitled.txt')\n",
    "else:\n",
    "    print('There is no file')"
   ]
  },
  {
   "cell_type": "code",
   "execution_count": 30,
   "metadata": {},
   "outputs": [
    {
     "data": {
      "text/plain": [
       "'Untitled Folder/class6pm1.txt'"
      ]
     },
     "execution_count": 30,
     "metadata": {},
     "output_type": "execute_result"
    }
   ],
   "source": [
    "import shutil\n",
    "src = 'class6pm1.txt'\n",
    "dst = 'Untitled Folder/'\n",
    "shutil.copy(src, dst)\n"
   ]
  },
  {
   "cell_type": "code",
   "execution_count": 31,
   "metadata": {},
   "outputs": [
    {
     "data": {
      "text/plain": [
       "'Untitled Folde1/'"
      ]
     },
     "execution_count": 31,
     "metadata": {},
     "output_type": "execute_result"
    }
   ],
   "source": [
    "import shutil\n",
    "src = 'Untitled Folder/'\n",
    "dst = 'Untitled Folde1/'\n",
    "shutil.copytree(src,dst)"
   ]
  },
  {
   "cell_type": "code",
   "execution_count": null,
   "metadata": {},
   "outputs": [],
   "source": []
  }
 ],
 "metadata": {
  "kernelspec": {
   "display_name": "Python 3",
   "language": "python",
   "name": "python3"
  },
  "language_info": {
   "codemirror_mode": {
    "name": "ipython",
    "version": 3
   },
   "file_extension": ".py",
   "mimetype": "text/x-python",
   "name": "python",
   "nbconvert_exporter": "python",
   "pygments_lexer": "ipython3",
   "version": "3.7.1"
  }
 },
 "nbformat": 4,
 "nbformat_minor": 2
}
