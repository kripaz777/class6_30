{
 "cells": [
  {
   "cell_type": "code",
   "execution_count": 1,
   "metadata": {},
   "outputs": [],
   "source": [
    "# def <function_name>():\n",
    "#     <operations>\n",
    "    \n",
    "# <function_name>()"
   ]
  },
  {
   "cell_type": "code",
   "execution_count": 2,
   "metadata": {},
   "outputs": [
    {
     "name": "stdout",
     "output_type": "stream",
     "text": [
      "Hello world\n"
     ]
    }
   ],
   "source": [
    "def hello():\n",
    "    print(\"Hello world\")\n",
    "    \n",
    "hello()"
   ]
  },
  {
   "cell_type": "code",
   "execution_count": 10,
   "metadata": {},
   "outputs": [
    {
     "name": "stdout",
     "output_type": "stream",
     "text": [
      "The area is  600\n"
     ]
    }
   ],
   "source": [
    "def cal():\n",
    "    l = 20\n",
    "    b = 30\n",
    "    a = l*b\n",
    "    print(\"The area is \",a)\n",
    "        \n",
    "cal()"
   ]
  },
  {
   "cell_type": "code",
   "execution_count": 11,
   "metadata": {},
   "outputs": [],
   "source": [
    "# function without argument with no returntype\n",
    "# function with argument with no returntype\n",
    "# function without argument with returntype\n",
    "# function with argument with returntype"
   ]
  },
  {
   "cell_type": "code",
   "execution_count": null,
   "metadata": {},
   "outputs": [],
   "source": [
    "# function without argument with no returntype\n",
    "\n",
    "def cal():\n",
    "    l = 20\n",
    "    b = 30\n",
    "    a = l*b\n",
    "    print(\"The area is \",a)\n",
    "        \n",
    "cal()"
   ]
  },
  {
   "cell_type": "code",
   "execution_count": 12,
   "metadata": {},
   "outputs": [
    {
     "name": "stdout",
     "output_type": "stream",
     "text": [
      "Enter l =3\n",
      "Enter b = 4\n",
      "The area is  12\n"
     ]
    }
   ],
   "source": [
    "# function without argument with no returntype\n",
    "\n",
    "def cal():\n",
    "    l = int(input(\"Enter l =\"))\n",
    "    b = int(input(\"Enter b = \"))\n",
    "    a = l*b\n",
    "    print(\"The area is \",a)\n",
    "        \n",
    "cal()"
   ]
  },
  {
   "cell_type": "code",
   "execution_count": 13,
   "metadata": {},
   "outputs": [
    {
     "name": "stdout",
     "output_type": "stream",
     "text": [
      "Enter l =4\n",
      "Enter b = 5\n",
      "The area is  20\n"
     ]
    }
   ],
   "source": [
    "# function without argument with no returntype\n",
    "l = int(input(\"Enter l =\"))\n",
    "b = int(input(\"Enter b = \"))\n",
    "\n",
    "def cal():\n",
    "    a = l*b\n",
    "    print(\"The area is \",a)\n",
    "        \n",
    "cal()"
   ]
  },
  {
   "cell_type": "code",
   "execution_count": 2,
   "metadata": {},
   "outputs": [
    {
     "name": "stdout",
     "output_type": "stream",
     "text": [
      "Enter l =6\n",
      "Enter b = 7\n",
      "The area is  42\n",
      "42\n"
     ]
    }
   ],
   "source": [
    "# function without argument with no returntype\n",
    "\n",
    "def cal():\n",
    "    l = int(input(\"Enter l =\"))\n",
    "    b = int(input(\"Enter b = \"))\n",
    "    global a\n",
    "    a = l*b\n",
    "    print(\"The area is \",a)\n",
    "        \n",
    "cal()\n",
    "print(a)"
   ]
  },
  {
   "cell_type": "code",
   "execution_count": 5,
   "metadata": {},
   "outputs": [
    {
     "name": "stdout",
     "output_type": "stream",
     "text": [
      "Enter l =4\n",
      "Enter b = 5\n",
      "Enter h = 6\n",
      "The area is  20\n",
      "The volume is  42\n"
     ]
    }
   ],
   "source": [
    "# function without argument with no returntype\n",
    "l = int(input(\"Enter l =\"))\n",
    "b = int(input(\"Enter b = \"))\n",
    "h = int(input(\"Enter h = \"))\n",
    "\n",
    "def volume():\n",
    "    v = l*b*h\n",
    "    print(\"The volume is \",a)\n",
    "        \n",
    "def area():\n",
    "    a = l*b\n",
    "    print(\"The area is \",a)\n",
    "\n",
    "area()\n",
    "volume()"
   ]
  },
  {
   "cell_type": "markdown",
   "metadata": {},
   "source": [
    "##### "
   ]
  },
  {
   "cell_type": "code",
   "execution_count": 6,
   "metadata": {},
   "outputs": [
    {
     "name": "stdout",
     "output_type": "stream",
     "text": [
      "Hello world\n"
     ]
    }
   ],
   "source": [
    "# function with argument with no returntype\n",
    "def hello(x):\n",
    "    print(x)\n",
    "    \n",
    "hello(\"Hello world\")"
   ]
  },
  {
   "cell_type": "code",
   "execution_count": null,
   "metadata": {},
   "outputs": [],
   "source": [
    "# function with argument with no returntype\n",
    "def area(x,y):\n",
    "    a = x*y\n",
    "    print(\"The area is \",a)\n",
    "        \n",
    "l = int(input(\"Enter l =\"))\n",
    "b = int(input(\"Enter b = \"))\n",
    "area(l,b)"
   ]
  },
  {
   "cell_type": "code",
   "execution_count": null,
   "metadata": {},
   "outputs": [],
   "source": [
    "# function with argument with no returntype\n",
    "def area(x,y):\n",
    "    a = x*y\n",
    "    print(\"The area is \",a)\n",
    "    \n",
    "def volume(x,y,z):\n",
    "    v = x*y*z\n",
    "    print(\"The volume is = \",v)\n",
    "    \n",
    "l = int(input(\"Enter l =\"))\n",
    "b = int(input(\"Enter b = \"))\n",
    "h = int(input(\"Enter h =\"))\n",
    "area(l,b)\n",
    "volume(l,b,h)"
   ]
  },
  {
   "cell_type": "code",
   "execution_count": 1,
   "metadata": {},
   "outputs": [
    {
     "name": "stdout",
     "output_type": "stream",
     "text": [
      "Enter l =4\n",
      "Enter b = 5\n",
      "Enter h = 6\n",
      "The volume  is  120\n"
     ]
    }
   ],
   "source": [
    "# function with argument with no returntype\n",
    "l = int(input(\"Enter l =\"))\n",
    "b = int(input(\"Enter b = \"))\n",
    "h = int(input(\"Enter h = \"))\n",
    "\n",
    "def volume(x,y):\n",
    "    v = x*y*h\n",
    "    print(\"The volume  is \",v)\n",
    "        \n",
    "volume(l,b)"
   ]
  },
  {
   "cell_type": "code",
   "execution_count": 3,
   "metadata": {},
   "outputs": [
    {
     "name": "stdout",
     "output_type": "stream",
     "text": [
      "54\n"
     ]
    }
   ],
   "source": [
    "# function with argument with returntype\n",
    "def area(l,b):\n",
    "    a = l*b\n",
    "    return a\n",
    "\n",
    "l= 6\n",
    "b = 9\n",
    "\n",
    "print(area(l,b))"
   ]
  },
  {
   "cell_type": "code",
   "execution_count": 4,
   "metadata": {},
   "outputs": [
    {
     "name": "stdout",
     "output_type": "stream",
     "text": [
      "54\n"
     ]
    }
   ],
   "source": [
    "# function with argument with returntype\n",
    "def area(l,b):\n",
    "    a = l*b\n",
    "    return a\n",
    "\n",
    "l= 6\n",
    "b = 9\n",
    "\n",
    "x = area(l,b)\n",
    "print(x)"
   ]
  },
  {
   "cell_type": "code",
   "execution_count": 6,
   "metadata": {},
   "outputs": [
    {
     "name": "stdout",
     "output_type": "stream",
     "text": [
      "The area is = 54\n",
      "The volume is =  432\n"
     ]
    }
   ],
   "source": [
    "# function with argument with returntype\n",
    "def area(l,b):\n",
    "    a = l*b\n",
    "    return a\n",
    "\n",
    "l= 6\n",
    "b = 9\n",
    "h =8\n",
    "x = area(l,b)\n",
    "v = x*h\n",
    "print(\"The area is =\",x)\n",
    "print(\"The volume is = \",v)"
   ]
  },
  {
   "cell_type": "code",
   "execution_count": 9,
   "metadata": {},
   "outputs": [
    {
     "name": "stdout",
     "output_type": "stream",
     "text": [
      "(54, 432)\n",
      "The area is = 54\n",
      "The volume is =  432\n"
     ]
    }
   ],
   "source": [
    "# function with argument with returntype\n",
    "def cal(l,b,h):\n",
    "    a = l*b\n",
    "    v = l*b*h\n",
    "    return a,v\n",
    "\n",
    "l= 6\n",
    "b = 9\n",
    "h =8\n",
    "x = cal(l,b,h)\n",
    "print(x)\n",
    "area,volume = x\n",
    "print(\"The area is =\",area)\n",
    "print(\"The volume is = \",volume)"
   ]
  },
  {
   "cell_type": "code",
   "execution_count": 10,
   "metadata": {},
   "outputs": [
    {
     "name": "stdout",
     "output_type": "stream",
     "text": [
      "(8, 9)\n"
     ]
    }
   ],
   "source": [
    "a = 8,9\n",
    "print(a)"
   ]
  },
  {
   "cell_type": "code",
   "execution_count": 11,
   "metadata": {},
   "outputs": [
    {
     "name": "stdout",
     "output_type": "stream",
     "text": [
      "8\n",
      "9\n"
     ]
    }
   ],
   "source": [
    "x,y =a\n",
    "print(x)\n",
    "print(y)"
   ]
  },
  {
   "cell_type": "code",
   "execution_count": 13,
   "metadata": {},
   "outputs": [
    {
     "name": "stdout",
     "output_type": "stream",
     "text": [
      "Enter name = Ram\n",
      "Enter age = 78\n",
      "Hello my name is Ram I am 78\n"
     ]
    }
   ],
   "source": [
    "# function without argument with returntype\n",
    "def hello():\n",
    "    name = input(\"Enter name = \")\n",
    "    age = int(input(\"Enter age = \"))\n",
    "    return \"Hello my name is \"+name +\" I am \"+str(age)\n",
    "\n",
    "print(hello())"
   ]
  },
  {
   "cell_type": "code",
   "execution_count": null,
   "metadata": {},
   "outputs": [],
   "source": [
    "# function without argument with returntype\n",
    "name = input(\"Enter name = \")\n",
    "age = int(input(\"Enter age = \"))\n",
    "\n",
    "def hello():\n",
    "    return \"Hello my name is \"+name +\" I am \"+str(age)\n",
    "\n",
    "print(hello())"
   ]
  },
  {
   "cell_type": "code",
   "execution_count": 15,
   "metadata": {},
   "outputs": [
    {
     "name": "stdout",
     "output_type": "stream",
     "text": [
      "Enter name = Ram\n",
      "Enter age = 45\n",
      "Hello my name is Ram I am 45\n",
      "Hello my name is Ram I am 45\n"
     ]
    }
   ],
   "source": [
    "# function without argument with returntype\n",
    "name = input(\"Enter name = \")\n",
    "age = int(input(\"Enter age = \"))\n",
    "\n",
    "def hello():\n",
    "    return \"Hello my name is \"+name +\" I am \"+str(age)\n",
    "\n",
    "def info():\n",
    "    print(hello())\n",
    "    \n",
    "\n",
    "print(hello())\n",
    "info()"
   ]
  },
  {
   "cell_type": "code",
   "execution_count": null,
   "metadata": {},
   "outputs": [],
   "source": [
    "def area(l,b):\n",
    "    a = l*b\n",
    "    return a\n",
    "\n",
    "def volume(l,b,h):\n",
    "    v = area(l,b)*h\n",
    "    return v\n",
    "\n",
    "l = 5\n",
    "b = 6\n",
    "h = 7\n",
    "\n",
    "print(\"The area is =\",area(l,b))\n",
    "print(\"The volume is\",volume(l,b,h))"
   ]
  },
  {
   "cell_type": "code",
   "execution_count": 16,
   "metadata": {},
   "outputs": [
    {
     "name": "stdout",
     "output_type": "stream",
     "text": [
      "The area is = 48\n",
      "The volume is 384\n"
     ]
    }
   ],
   "source": [
    "def area():\n",
    "    l = 6\n",
    "    b = 8\n",
    "    a = l*b\n",
    "    return a\n",
    "\n",
    "def volume():\n",
    "    h = 8\n",
    "    v = area()*h\n",
    "    return v\n",
    "\n",
    "print(\"The area is =\",area())\n",
    "print(\"The volume is\",volume())"
   ]
  },
  {
   "cell_type": "code",
   "execution_count": 1,
   "metadata": {},
   "outputs": [],
   "source": [
    "# Recursive function"
   ]
  },
  {
   "cell_type": "code",
   "execution_count": 2,
   "metadata": {},
   "outputs": [],
   "source": [
    "# def cal():\n",
    "#     <operations>\n",
    "#     cal()\n",
    "    \n",
    "    \n",
    "# cal()"
   ]
  },
  {
   "cell_type": "code",
   "execution_count": null,
   "metadata": {},
   "outputs": [
    {
     "name": "stdout",
     "output_type": "stream",
     "text": [
      "Enter name = Ram\n",
      "Enter age = 67\n",
      "Hello my name is Ram I am 67\n",
      "Enter name = sfssdfd\n",
      "Enter age = 45\n",
      "Hello my name is sfssdfd I am 45\n",
      "Enter name = ddfgfdgf\n",
      "Enter age = 45\n",
      "Hello my name is ddfgfdgf I am 45\n",
      "Enter name = dgfdgfdggsdgsd\n",
      "Enter age = 5\n",
      "Hello my name is dgfdgfdggsdgsd I am 5\n"
     ]
    }
   ],
   "source": [
    "# function without argument with returntype\n",
    "def hello():\n",
    "    name = input(\"Enter name = \")\n",
    "    age = int(input(\"Enter age = \"))\n",
    "    print(\"Hello my name is \"+name +\" I am \"+str(age))\n",
    "    \n",
    "    hello()\n",
    "\n",
    "hello()"
   ]
  },
  {
   "cell_type": "code",
   "execution_count": 1,
   "metadata": {},
   "outputs": [
    {
     "name": "stdout",
     "output_type": "stream",
     "text": [
      "Enter name = Ram\n",
      "Enter age = 56\n",
      "Hello my name is Ram I am 56\n",
      "Enter y for more calculationn =y\n",
      "Enter name = Shyam\n",
      "Enter age = 78\n",
      "Hello my name is Shyam I am 78\n",
      "Enter y for more calculationn =dssadas\n"
     ]
    }
   ],
   "source": [
    "# function without argument with returntype\n",
    "def hello():\n",
    "    name = input(\"Enter name = \")\n",
    "    age = int(input(\"Enter age = \"))\n",
    "    print(\"Hello my name is \"+name +\" I am \"+str(age))\n",
    "    y = input(\"Enter y for more calculationn =\")\n",
    "    if y == 'y':\n",
    "        hello()\n",
    "\n",
    "hello()"
   ]
  },
  {
   "cell_type": "code",
   "execution_count": 2,
   "metadata": {},
   "outputs": [],
   "source": [
    "# default value problem"
   ]
  },
  {
   "cell_type": "code",
   "execution_count": 3,
   "metadata": {},
   "outputs": [
    {
     "name": "stdout",
     "output_type": "stream",
     "text": [
      "Php\n",
      "C++\n",
      "C\n",
      "Python\n"
     ]
    }
   ],
   "source": [
    "def language(lan = \"Python\"):\n",
    "    print(lan)\n",
    "    \n",
    "language(\"Php\")\n",
    "language(\"C++\")\n",
    "language(\"C\")\n",
    "language()"
   ]
  },
  {
   "cell_type": "code",
   "execution_count": 4,
   "metadata": {},
   "outputs": [
    {
     "name": "stdout",
     "output_type": "stream",
     "text": [
      "120\n"
     ]
    }
   ],
   "source": [
    "def volume(l,b,h):\n",
    "    print(l*b*h)\n",
    "    \n",
    "l = int(input(\"Enter l =\"))\n",
    "b = int(input(\"Enter b = \"))\n",
    "h = int(input(\"Enter h = \"))\n",
    "volume(l,b,h)"
   ]
  },
  {
   "cell_type": "code",
   "execution_count": 5,
   "metadata": {},
   "outputs": [
    {
     "name": "stdout",
     "output_type": "stream",
     "text": [
      "Enter l =5\n",
      "Enter b = 7\n",
      "Enter h = 9\n",
      "315\n"
     ]
    }
   ],
   "source": [
    "def volume(x):\n",
    "    l,b,h = x\n",
    "    \n",
    "    print(l*b*h)\n",
    "    \n",
    "l = int(input(\"Enter l =\"))\n",
    "b = int(input(\"Enter b = \"))\n",
    "h = int(input(\"Enter h = \"))\n",
    "x = (l,b,h)\n",
    "volume(x)"
   ]
  },
  {
   "cell_type": "code",
   "execution_count": 6,
   "metadata": {},
   "outputs": [],
   "source": [
    "# math function"
   ]
  },
  {
   "cell_type": "code",
   "execution_count": 9,
   "metadata": {},
   "outputs": [
    {
     "name": "stdout",
     "output_type": "stream",
     "text": [
      "3.141592653589793\n",
      "2.718281828459045\n"
     ]
    }
   ],
   "source": [
    "import math as m\n",
    "print(m.pi)\n",
    "print(m.e)"
   ]
  },
  {
   "cell_type": "code",
   "execution_count": 12,
   "metadata": {},
   "outputs": [
    {
     "data": {
      "text/plain": [
       "24"
      ]
     },
     "execution_count": 12,
     "metadata": {},
     "output_type": "execute_result"
    }
   ],
   "source": [
    "import math as mm\n",
    "mm.factorial(4)"
   ]
  },
  {
   "cell_type": "code",
   "execution_count": 13,
   "metadata": {},
   "outputs": [
    {
     "name": "stdout",
     "output_type": "stream",
     "text": [
      "Enter value of r = 6\n",
      "113.09733552923255\n"
     ]
    }
   ],
   "source": [
    "import math as m\n",
    "r = int(input(\"Enter value of r = \"))\n",
    "area = m.pi*(m.pow(r,2))\n",
    "print(area)"
   ]
  },
  {
   "cell_type": "code",
   "execution_count": 14,
   "metadata": {},
   "outputs": [
    {
     "data": {
      "text/plain": [
       "0.8939966636005579"
      ]
     },
     "execution_count": 14,
     "metadata": {},
     "output_type": "execute_result"
    }
   ],
   "source": [
    "import math as m\n",
    "m.sin(90)"
   ]
  },
  {
   "cell_type": "code",
   "execution_count": 15,
   "metadata": {},
   "outputs": [
    {
     "data": {
      "text/plain": [
       "1.0"
      ]
     },
     "execution_count": 15,
     "metadata": {},
     "output_type": "execute_result"
    }
   ],
   "source": [
    "import math as m\n",
    "m.sin(m.pi/2)"
   ]
  },
  {
   "cell_type": "code",
   "execution_count": 16,
   "metadata": {},
   "outputs": [
    {
     "data": {
      "text/plain": [
       "6.123233995736766e-17"
      ]
     },
     "execution_count": 16,
     "metadata": {},
     "output_type": "execute_result"
    }
   ],
   "source": [
    "import math as m\n",
    "m.cos(m.pi/2)"
   ]
  },
  {
   "cell_type": "code",
   "execution_count": 17,
   "metadata": {},
   "outputs": [
    {
     "data": {
      "text/plain": [
       "1.0"
      ]
     },
     "execution_count": 17,
     "metadata": {},
     "output_type": "execute_result"
    }
   ],
   "source": [
    "import math as m\n",
    "x = m.sin(m.pi/2)\n",
    "y = m.cos(m.pi/2)\n",
    "m.pow(x,2) + m.pow(y,2)"
   ]
  },
  {
   "cell_type": "code",
   "execution_count": null,
   "metadata": {},
   "outputs": [],
   "source": []
  }
 ],
 "metadata": {
  "kernelspec": {
   "display_name": "Python 3",
   "language": "python",
   "name": "python3"
  },
  "language_info": {
   "codemirror_mode": {
    "name": "ipython",
    "version": 3
   },
   "file_extension": ".py",
   "mimetype": "text/x-python",
   "name": "python",
   "nbconvert_exporter": "python",
   "pygments_lexer": "ipython3",
   "version": "3.7.1"
  }
 },
 "nbformat": 4,
 "nbformat_minor": 2
}
