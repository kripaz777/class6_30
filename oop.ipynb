{
 "cells": [
  {
   "cell_type": "code",
   "execution_count": 1,
   "metadata": {},
   "outputs": [
    {
     "name": "stdout",
     "output_type": "stream",
     "text": [
      "Hello world I am Python\n"
     ]
    }
   ],
   "source": [
    "class Python:\n",
    "    print(\"Hello world I am Python\")\n",
    "    \n",
    "obj = Python()"
   ]
  },
  {
   "cell_type": "code",
   "execution_count": 2,
   "metadata": {},
   "outputs": [],
   "source": [
    "# class <class_name>:\n",
    "#     <attributes>\n",
    "#     <methods>\n",
    "    \n",
    "# obj = <class_name>()"
   ]
  },
  {
   "cell_type": "code",
   "execution_count": 6,
   "metadata": {},
   "outputs": [
    {
     "name": "stdout",
     "output_type": "stream",
     "text": [
      "Hello world I am Python\n"
     ]
    }
   ],
   "source": [
    "class Python:     #class\n",
    "    def hello(self):   #method\n",
    "        print(\"Hello world I am Python\")\n",
    "    \n",
    "obj = Python()   #object\n",
    "obj.hello()"
   ]
  },
  {
   "cell_type": "code",
   "execution_count": 2,
   "metadata": {},
   "outputs": [
    {
     "name": "stdout",
     "output_type": "stream",
     "text": [
      "Enter l = 5\n",
      "Enter b = 6\n",
      "The area is =  30\n"
     ]
    }
   ],
   "source": [
    "class Python:     #class\n",
    "    def cal(self):   #method\n",
    "        l = int(input(\"Enter l = \"))\n",
    "        b = int(input(\"Enter b = \"))\n",
    "        a = l*b\n",
    "        print(\"The area is = \",a)\n",
    "        \n",
    "obj = Python()   #object\n",
    "obj.cal()"
   ]
  },
  {
   "cell_type": "code",
   "execution_count": 8,
   "metadata": {},
   "outputs": [
    {
     "name": "stdout",
     "output_type": "stream",
     "text": [
      "Enter l = 4\n",
      "Enter b = 5\n",
      "The area is =  20\n"
     ]
    }
   ],
   "source": [
    "class Python:     #class\n",
    "    def cal(self,l,b):   #method\n",
    "        a = l*b\n",
    "        print(\"The area is = \",a)\n",
    "        \n",
    "obj = Python()   #object\n",
    "l = int(input(\"Enter l = \"))\n",
    "b = int(input(\"Enter b = \"))\n",
    "\n",
    "obj.cal(l,b)"
   ]
  },
  {
   "cell_type": "code",
   "execution_count": 10,
   "metadata": {},
   "outputs": [
    {
     "name": "stdout",
     "output_type": "stream",
     "text": [
      "Enter l = 7\n",
      "Enter b = 8\n",
      "The area is =  56\n"
     ]
    }
   ],
   "source": [
    "class Python:     #class\n",
    "    def cal(l,self,b):   #method\n",
    "        a = self*b\n",
    "        print(\"The area is = \",a)\n",
    "        \n",
    "obj = Python()   #object\n",
    "l = int(input(\"Enter l = \"))\n",
    "b = int(input(\"Enter b = \"))\n",
    "\n",
    "obj.cal(l,b)"
   ]
  },
  {
   "cell_type": "code",
   "execution_count": null,
   "metadata": {},
   "outputs": [],
   "source": [
    "class Python:     #class\n",
    "    def area(l,self,b):   #method\n",
    "        a = self*b\n",
    "        print(\"The area is = \",a)\n",
    "    def volume(self,l,b,h):\n",
    "        v = l*b*h\n",
    "        print(\"The volume is = \",v)\n",
    "    \n",
    "        \n",
    "obj = Python()   #object\n",
    "l = int(input(\"Enter l = \"))\n",
    "b = int(input(\"Enter b = \"))\n",
    "h = int(input(\"Enter h = \"))\n",
    "\n",
    "obj.area(l,b)\n",
    "obj.volume(l,b,h)"
   ]
  },
  {
   "cell_type": "code",
   "execution_count": 11,
   "metadata": {},
   "outputs": [
    {
     "name": "stdout",
     "output_type": "stream",
     "text": [
      "Enter l = 5\n",
      "Enter b = 6\n",
      "Enter h = 7\n",
      "The area is =  30\n",
      "The volume is =  210\n"
     ]
    }
   ],
   "source": [
    "class Area:     #class\n",
    "    def area(l,self,b):   #method\n",
    "        a = self*b\n",
    "        print(\"The area is = \",a)\n",
    "        \n",
    "class Volume:        \n",
    "    def volume(self,l,b,h):\n",
    "        v = l*b*h\n",
    "        print(\"The volume is = \",v)\n",
    "    \n",
    "        \n",
    "obj1 = Area()   #object\n",
    "obj2 = Volume()\n",
    "\n",
    "l = int(input(\"Enter l = \"))\n",
    "b = int(input(\"Enter b = \"))\n",
    "h = int(input(\"Enter h = \"))\n",
    "\n",
    "obj1.area(l,b)\n",
    "obj2.volume(l,b,h)"
   ]
  },
  {
   "cell_type": "code",
   "execution_count": 3,
   "metadata": {},
   "outputs": [],
   "source": [
    "# __init__()"
   ]
  },
  {
   "cell_type": "code",
   "execution_count": 4,
   "metadata": {},
   "outputs": [
    {
     "name": "stdout",
     "output_type": "stream",
     "text": [
      "Enter l = 5\n",
      "Enter b = 6\n",
      "The area is =  30\n"
     ]
    }
   ],
   "source": [
    "class Python:     #class\n",
    "    def __init__(self,l,b):\n",
    "        self.l = l\n",
    "        self.b = b\n",
    "        \n",
    "    def cal(self):   #method\n",
    "        a = self.l*self.b\n",
    "        print(\"The area is = \",a) \n",
    "\n",
    "        \n",
    "l = int(input(\"Enter l = \"))\n",
    "b = int(input(\"Enter b = \"))\n",
    "obj = Python(l,b)   #object\n",
    "\n",
    "\n",
    "obj.cal()"
   ]
  },
  {
   "cell_type": "code",
   "execution_count": 5,
   "metadata": {},
   "outputs": [
    {
     "name": "stdout",
     "output_type": "stream",
     "text": [
      "Enter l = 5\n",
      "Enter b = 6\n",
      "Enter h = 7\n",
      "The area is =  30\n",
      "The volume is =  210\n"
     ]
    }
   ],
   "source": [
    "class Python:     #class\n",
    "    def __init__(self,l,b,h):\n",
    "        self.l = l\n",
    "        self.b = b\n",
    "        self.h = h\n",
    "        \n",
    "    def area(self):   #method\n",
    "        a = self.l*self.b\n",
    "        print(\"The area is = \",a) \n",
    "        \n",
    "    def volume(self):   #method\n",
    "        v = self.l*self.b*self.h\n",
    "        print(\"The volume is = \",v) \n",
    "\n",
    "        \n",
    "l = int(input(\"Enter l = \"))\n",
    "b = int(input(\"Enter b = \"))\n",
    "h = int(input(\"Enter h = \"))\n",
    "\n",
    "obj = Python(l,b,h)   #object\n",
    "\n",
    "\n",
    "obj.area()\n",
    "obj.volume()"
   ]
  },
  {
   "cell_type": "code",
   "execution_count": 7,
   "metadata": {},
   "outputs": [
    {
     "name": "stdout",
     "output_type": "stream",
     "text": [
      "Enter l = 5\n",
      "Enter b = 6\n",
      "Enter h = 7\n",
      "The area is =  30\n",
      "The volume is =  210\n"
     ]
    }
   ],
   "source": [
    "class Python:     #class\n",
    "    def __init__(self,l,b,h):\n",
    "        self.l = l\n",
    "        self.b = b\n",
    "        self.h = h\n",
    "        \n",
    "    def area(self):   #method\n",
    "        a = self.l*self.b\n",
    "        print(\"The area is = \",a) \n",
    "        \n",
    "    def volume(this):   #method\n",
    "        v = this.l*this.b*this.h\n",
    "        print(\"The volume is = \",v) \n",
    "\n",
    "        \n",
    "l = int(input(\"Enter l = \"))\n",
    "b = int(input(\"Enter b = \"))\n",
    "h = int(input(\"Enter h = \"))\n",
    "\n",
    "obj = Python(l,b,h)   #object\n",
    "\n",
    "\n",
    "obj.area()\n",
    "obj.volume()"
   ]
  },
  {
   "cell_type": "code",
   "execution_count": 8,
   "metadata": {},
   "outputs": [
    {
     "name": "stdout",
     "output_type": "stream",
     "text": [
      "Enter l = 3\n",
      "Enter b = 4\n",
      "Enter h = 5\n",
      "The area is =  12\n",
      "The volume is =  60\n"
     ]
    }
   ],
   "source": [
    "class Python:     #class\n",
    "    def __init__(self,l,b):\n",
    "        self.l = l\n",
    "        self.b = b\n",
    "        \n",
    "    def area(self):   #method\n",
    "        a = self.l*self.b\n",
    "        print(\"The area is = \",a) \n",
    "        \n",
    "    def volume(this,h):   #method\n",
    "        v = this.l*this.b*h\n",
    "        print(\"The volume is = \",v) \n",
    "\n",
    "        \n",
    "l = int(input(\"Enter l = \"))\n",
    "b = int(input(\"Enter b = \"))\n",
    "h = int(input(\"Enter h = \"))\n",
    "\n",
    "obj = Python(l,b)   #object\n",
    "\n",
    "\n",
    "obj.area()\n",
    "obj.volume(h)"
   ]
  },
  {
   "cell_type": "code",
   "execution_count": 1,
   "metadata": {},
   "outputs": [
    {
     "name": "stdout",
     "output_type": "stream",
     "text": [
      "Enter l = 6\n",
      "Enter b = 7\n",
      "Enter h = 8\n",
      "The area is =  42\n",
      "The volume is =  336\n"
     ]
    }
   ],
   "source": [
    "class Python:     #class\n",
    "    def __init__(self):\n",
    "        self.l = int(input(\"Enter l = \"))\n",
    "        self.b = int(input(\"Enter b = \"))\n",
    "        self.h = int(input(\"Enter h = \"))\n",
    "        \n",
    "    def area(self):   #method\n",
    "        a = self.l*self.b\n",
    "        print(\"The area is = \",a) \n",
    "        \n",
    "    def volume(this):   #method\n",
    "        v = this.l*this.b*this.h\n",
    "        print(\"The volume is = \",v) \n",
    "\n",
    "        \n",
    "obj = Python()   #object\n",
    "\n",
    "obj.area()\n",
    "obj.volume()"
   ]
  },
  {
   "cell_type": "code",
   "execution_count": null,
   "metadata": {},
   "outputs": [],
   "source": [
    "class Area:     #class\n",
    "    def __init__(self,l,b):\n",
    "        self.l = l\n",
    "        self.b = b\n",
    "        \n",
    "    def area(self):   #method\n",
    "        a = self.l*self.b\n",
    "        print(\"The area is = \",a) \n",
    "        \n",
    "class Volume:\n",
    "     def __init__(self,l,b,h):\n",
    "        self.l = l\n",
    "        self.b = b\n",
    "        self.h = h\n",
    "    def volume(this):   #method\n",
    "        v = this.l*this.b*this.h\n",
    "        print(\"The volume is = \",v) \n",
    "\n",
    "        \n",
    "l = int(input(\"Enter l = \"))\n",
    "b = int(input(\"Enter b = \"))\n",
    "h = int(input(\"Enter h = \"))\n",
    "\n",
    "obj1 = Area(l,b)   #object\n",
    "obj2 = Volume(l,b,h)\n",
    "\n",
    "obj1.area()\n",
    "obj2.volume()"
   ]
  },
  {
   "cell_type": "code",
   "execution_count": 5,
   "metadata": {},
   "outputs": [
    {
     "name": "stdout",
     "output_type": "stream",
     "text": [
      "Enter l = 5\n",
      "Enter b = 7\n",
      "The area is =  35\n",
      "(5, 7)\n"
     ]
    }
   ],
   "source": [
    "class Python:     #class\n",
    "    def __init__(self,l,b):\n",
    "        self.l = l\n",
    "        self.b = b\n",
    "        \n",
    "    def cal(self):   #method\n",
    "        a = self.l*self.b\n",
    "        print(\"The area is = \",a)\n",
    "        \n",
    "    def __str__(self):\n",
    "        return f\"{self.l,self.b}\"\n",
    "        \n",
    "  #object\n",
    "l = int(input(\"Enter l = \"))\n",
    "b = int(input(\"Enter b = \"))\n",
    "obj = Python(l,b) \n",
    "obj.cal()\n",
    "print(obj)\n",
    "print(obj.__str__())\n",
    "print(str(obj))"
   ]
  },
  {
   "cell_type": "code",
   "execution_count": 10,
   "metadata": {},
   "outputs": [
    {
     "name": "stdout",
     "output_type": "stream",
     "text": [
      "Enter l = 7\n",
      "Enter b = 8\n",
      "The area is =  56\n",
      "{'Length': 7, 'breadth': 8}\n",
      "<class 'dict'>\n"
     ]
    }
   ],
   "source": [
    "class Python:     #class\n",
    "    def __init__(self,l,b):\n",
    "        self.l = l\n",
    "        self.b = b\n",
    "        \n",
    "    def cal(self):   #method\n",
    "        a = self.l*self.b\n",
    "        print(\"The area is = \",a)\n",
    "        \n",
    "    def __repr__(self):\n",
    "        return {\"Length\":self.l,\"breadth\":self.b}\n",
    "        \n",
    "  #object\n",
    "l = int(input(\"Enter l = \"))\n",
    "b = int(input(\"Enter b = \"))\n",
    "obj = Python(l,b) \n",
    "obj.cal()\n",
    "print(obj.__repr__())\n",
    "print(type(obj.__repr__()))\n",
    "# print(repr(obj))"
   ]
  },
  {
   "cell_type": "code",
   "execution_count": 15,
   "metadata": {},
   "outputs": [
    {
     "name": "stdout",
     "output_type": "stream",
     "text": [
      "2 3\n",
      "-1 2\n",
      "6 3\n",
      "1 5\n",
      "1 5\n",
      "7 8\n",
      "7 8\n",
      "7 8\n"
     ]
    }
   ],
   "source": [
    "class Point:\n",
    "    def __init__(self, x = 0, y = 0):\n",
    "        self.x = x\n",
    "        self.y = y\n",
    "        print(self.x,self.y)\n",
    "    def __str__(self):\n",
    "        return f\"{self.x} {self.y}\"\n",
    "    \n",
    "    def __add__(self,other):\n",
    "        x = self.x + other.x\n",
    "        y = self.y + other.y\n",
    "        print(x,y)\n",
    "        return Point(x,y)\n",
    "    \n",
    "p1 = Point(2,3)\n",
    "p2 = Point(-1,2)\n",
    "p3 = Point(6,3)\n",
    "print(p1 + p2 +p3)\n"
   ]
  },
  {
   "cell_type": "code",
   "execution_count": 16,
   "metadata": {},
   "outputs": [
    {
     "name": "stdout",
     "output_type": "stream",
     "text": [
      "1000\n",
      "3000\n",
      "4000\n",
      "4000\n",
      "4000\n",
      "8000\n",
      "8000\n",
      "Total = 8000\n"
     ]
    }
   ],
   "source": [
    "class Point:\n",
    "    def __init__(self, x = 0):\n",
    "        self.x = x\n",
    "        \n",
    "        print(self.x)\n",
    "    def __str__(self):\n",
    "        return f\"Total = {self.x}\"\n",
    "    \n",
    "    def __add__(self,other):\n",
    "        x = self.x + other.x\n",
    "        print(x)\n",
    "        return Point(x)\n",
    "    \n",
    "p1 = Point(1000)\n",
    "p2 = Point(3000)\n",
    "p3 = Point(4000)\n",
    "print(p1 + p2 +p3)\n"
   ]
  },
  {
   "cell_type": "code",
   "execution_count": null,
   "metadata": {},
   "outputs": [],
   "source": [
    "class Point:\n",
    "    def __init__(self, x = 0):\n",
    "        self.x = x\n",
    "        \n",
    "        print(self.x)\n",
    "    def __str__(self):\n",
    "        return f\"Total = {self.x}\"\n",
    "    \n",
    "    def __add__(self,other):\n",
    "        x = self.x + other.x\n",
    "        print(x)\n",
    "        return Point(x)\n",
    "    \n",
    "p1 = Point(1000,3)\n",
    "p2 = Point(3000,3)\n",
    "p3 = Point(4000,1)\n",
    "print(p1 + p2 +p3)\n"
   ]
  }
 ],
 "metadata": {
  "kernelspec": {
   "display_name": "Python 3",
   "language": "python",
   "name": "python3"
  },
  "language_info": {
   "codemirror_mode": {
    "name": "ipython",
    "version": 3
   },
   "file_extension": ".py",
   "mimetype": "text/x-python",
   "name": "python",
   "nbconvert_exporter": "python",
   "pygments_lexer": "ipython3",
   "version": "3.7.1"
  }
 },
 "nbformat": 4,
 "nbformat_minor": 2
}
