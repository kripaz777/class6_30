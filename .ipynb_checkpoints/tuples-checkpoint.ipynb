{
 "cells": [
  {
   "cell_type": "code",
   "execution_count": 1,
   "metadata": {},
   "outputs": [
    {
     "name": "stdout",
     "output_type": "stream",
     "text": [
      "(1, 2, 3, 4)\n",
      "<class 'tuple'>\n"
     ]
    }
   ],
   "source": [
    "a = (1,2,3,4)\n",
    "print(a)\n",
    "print(type(a))"
   ]
  },
  {
   "cell_type": "code",
   "execution_count": 3,
   "metadata": {},
   "outputs": [
    {
     "data": {
      "text/plain": [
       "4"
      ]
     },
     "execution_count": 3,
     "metadata": {},
     "output_type": "execute_result"
    }
   ],
   "source": [
    "a[3]"
   ]
  },
  {
   "cell_type": "code",
   "execution_count": 4,
   "metadata": {},
   "outputs": [
    {
     "data": {
      "text/plain": [
       "(2, 3, 4)"
      ]
     },
     "execution_count": 4,
     "metadata": {},
     "output_type": "execute_result"
    }
   ],
   "source": [
    "a[1:4]"
   ]
  },
  {
   "cell_type": "code",
   "execution_count": 5,
   "metadata": {},
   "outputs": [
    {
     "data": {
      "text/plain": [
       "(1, 2, 3, 4, 5, 6, 7)"
      ]
     },
     "execution_count": 5,
     "metadata": {},
     "output_type": "execute_result"
    }
   ],
   "source": [
    "a = (1,2,3,4)\n",
    "b = (5,6,7)\n",
    "a+b"
   ]
  },
  {
   "cell_type": "code",
   "execution_count": 6,
   "metadata": {},
   "outputs": [
    {
     "data": {
      "text/plain": [
       "(1, 2, 3, 4, 1, 2, 3, 4)"
      ]
     },
     "execution_count": 6,
     "metadata": {},
     "output_type": "execute_result"
    }
   ],
   "source": [
    "a*2"
   ]
  },
  {
   "cell_type": "code",
   "execution_count": 7,
   "metadata": {},
   "outputs": [
    {
     "data": {
      "text/plain": [
       "tuple"
      ]
     },
     "execution_count": 7,
     "metadata": {},
     "output_type": "execute_result"
    }
   ],
   "source": [
    "a = tuple()\n",
    "type(a)"
   ]
  },
  {
   "cell_type": "code",
   "execution_count": 10,
   "metadata": {},
   "outputs": [
    {
     "data": {
      "text/plain": [
       "tuple"
      ]
     },
     "execution_count": 10,
     "metadata": {},
     "output_type": "execute_result"
    }
   ],
   "source": [
    "a = (\"Apple\",)\n",
    "type(a)"
   ]
  },
  {
   "cell_type": "code",
   "execution_count": 11,
   "metadata": {},
   "outputs": [
    {
     "data": {
      "text/plain": [
       "tuple"
      ]
     },
     "execution_count": 11,
     "metadata": {},
     "output_type": "execute_result"
    }
   ],
   "source": [
    "a = (1,)\n",
    "type(a)"
   ]
  },
  {
   "cell_type": "code",
   "execution_count": 12,
   "metadata": {},
   "outputs": [
    {
     "data": {
      "text/plain": [
       "(1, 2, 3, 4, 5)"
      ]
     },
     "execution_count": 12,
     "metadata": {},
     "output_type": "execute_result"
    }
   ],
   "source": [
    "a = (1,2,3,4)\n",
    "b = (5,)\n",
    "a+b"
   ]
  },
  {
   "cell_type": "code",
   "execution_count": 13,
   "metadata": {},
   "outputs": [
    {
     "name": "stdout",
     "output_type": "stream",
     "text": [
      "Enter the value of n = 3\n",
      "Enter x = Apple\n",
      "Enter x = Ball\n",
      "Enter x = Cat\n",
      "('Apple', 'Ball', 'Cat')\n"
     ]
    }
   ],
   "source": [
    "y = tuple()\n",
    "n = int(input(\"Enter the value of n = \"))\n",
    "for i in range(n):\n",
    "    x = input(\"Enter x = \")\n",
    "    y = y+(x,)\n",
    "    \n",
    "print(y)"
   ]
  },
  {
   "cell_type": "code",
   "execution_count": 15,
   "metadata": {},
   "outputs": [
    {
     "ename": "TypeError",
     "evalue": "'tuple' object does not support item assignment",
     "output_type": "error",
     "traceback": [
      "\u001b[1;31m---------------------------------------------------------------------------\u001b[0m",
      "\u001b[1;31mTypeError\u001b[0m                                 Traceback (most recent call last)",
      "\u001b[1;32m<ipython-input-15-9a12cc555b11>\u001b[0m in \u001b[0;36m<module>\u001b[1;34m\u001b[0m\n\u001b[1;32m----> 1\u001b[1;33m \u001b[0my\u001b[0m\u001b[1;33m[\u001b[0m\u001b[1;36m0\u001b[0m\u001b[1;33m]\u001b[0m \u001b[1;33m=\u001b[0m \u001b[1;34m'Ant'\u001b[0m\u001b[1;33m\u001b[0m\u001b[1;33m\u001b[0m\u001b[0m\n\u001b[0m\u001b[0;32m      2\u001b[0m \u001b[0my\u001b[0m\u001b[1;33m\u001b[0m\u001b[1;33m\u001b[0m\u001b[0m\n",
      "\u001b[1;31mTypeError\u001b[0m: 'tuple' object does not support item assignment"
     ]
    }
   ],
   "source": [
    "y[0] = 'Ant'\n",
    "y"
   ]
  },
  {
   "cell_type": "code",
   "execution_count": 16,
   "metadata": {},
   "outputs": [],
   "source": [
    "# append,remove,delete,update,clear,pop"
   ]
  },
  {
   "cell_type": "code",
   "execution_count": 17,
   "metadata": {},
   "outputs": [
    {
     "name": "stdout",
     "output_type": "stream",
     "text": [
      "10\n",
      "4\n",
      "1\n"
     ]
    }
   ],
   "source": [
    "a = (1,2,3,4)\n",
    "print(sum(a))\n",
    "print(max(a))\n",
    "print(min(a))"
   ]
  },
  {
   "cell_type": "code",
   "execution_count": 18,
   "metadata": {},
   "outputs": [
    {
     "ename": "AttributeError",
     "evalue": "'tuple' object has no attribute 'sort'",
     "output_type": "error",
     "traceback": [
      "\u001b[1;31m---------------------------------------------------------------------------\u001b[0m",
      "\u001b[1;31mAttributeError\u001b[0m                            Traceback (most recent call last)",
      "\u001b[1;32m<ipython-input-18-28345e96e372>\u001b[0m in \u001b[0;36m<module>\u001b[1;34m\u001b[0m\n\u001b[0;32m      1\u001b[0m \u001b[0mx\u001b[0m \u001b[1;33m=\u001b[0m\u001b[1;33m(\u001b[0m\u001b[1;34m'Apple'\u001b[0m\u001b[1;33m,\u001b[0m \u001b[1;34m'Ball'\u001b[0m\u001b[1;33m,\u001b[0m \u001b[1;34m'Cat'\u001b[0m\u001b[1;33m)\u001b[0m\u001b[1;33m\u001b[0m\u001b[1;33m\u001b[0m\u001b[0m\n\u001b[1;32m----> 2\u001b[1;33m \u001b[0mx\u001b[0m\u001b[1;33m.\u001b[0m\u001b[0msort\u001b[0m\u001b[1;33m(\u001b[0m\u001b[1;33m)\u001b[0m\u001b[1;33m\u001b[0m\u001b[1;33m\u001b[0m\u001b[0m\n\u001b[0m",
      "\u001b[1;31mAttributeError\u001b[0m: 'tuple' object has no attribute 'sort'"
     ]
    }
   ],
   "source": [
    "x =('Apple', 'Ball', 'Cat')\n",
    "x.sort()"
   ]
  },
  {
   "cell_type": "code",
   "execution_count": 19,
   "metadata": {},
   "outputs": [
    {
     "data": {
      "text/plain": [
       "['Apple', 'Ball', 'Cat']"
      ]
     },
     "execution_count": 19,
     "metadata": {},
     "output_type": "execute_result"
    }
   ],
   "source": [
    "x =('Apple', 'Ball', 'Cat')\n",
    "sorted(x)"
   ]
  },
  {
   "cell_type": "code",
   "execution_count": 20,
   "metadata": {},
   "outputs": [
    {
     "name": "stdout",
     "output_type": "stream",
     "text": [
      "Apple\n",
      "Ball\n",
      "Cat\n"
     ]
    }
   ],
   "source": [
    "for i in x:\n",
    "    print(i)"
   ]
  },
  {
   "cell_type": "code",
   "execution_count": 21,
   "metadata": {},
   "outputs": [
    {
     "name": "stdout",
     "output_type": "stream",
     "text": [
      "Yes\n"
     ]
    }
   ],
   "source": [
    "x =('Apple', 'Ball', 'Cat')\n",
    "if \"Apple\" in x:\n",
    "    print(\"Yes\")\n",
    "else:\n",
    "    print(\"No\")"
   ]
  },
  {
   "cell_type": "code",
   "execution_count": 22,
   "metadata": {},
   "outputs": [
    {
     "data": {
      "text/plain": [
       "1"
      ]
     },
     "execution_count": 22,
     "metadata": {},
     "output_type": "execute_result"
    }
   ],
   "source": [
    "x =('Apple', 'Ball', 'Cat')\n",
    "x.index(\"Ball\")"
   ]
  },
  {
   "cell_type": "code",
   "execution_count": 25,
   "metadata": {},
   "outputs": [
    {
     "data": {
      "text/plain": [
       "('Apple', 'Ball', 'Dog', 'Fish')"
      ]
     },
     "execution_count": 25,
     "metadata": {},
     "output_type": "execute_result"
    }
   ],
   "source": [
    "x =('Apple', 'Ball', 'Cat','Dog','Fish')\n",
    "y = x[0:2]\n",
    "z = x[3:]\n",
    "y+z"
   ]
  },
  {
   "cell_type": "code",
   "execution_count": 26,
   "metadata": {},
   "outputs": [
    {
     "name": "stdout",
     "output_type": "stream",
     "text": [
      "('h', 'e', 'l', 'l', 'o', ' ', 'w', 'o', 'r', 'l', 'd')\n"
     ]
    }
   ],
   "source": [
    "x = \"hello world\"\n",
    "print(tuple(x))"
   ]
  },
  {
   "cell_type": "code",
   "execution_count": 27,
   "metadata": {},
   "outputs": [
    {
     "name": "stdout",
     "output_type": "stream",
     "text": [
      "['Apple', 'Ball', 'Cat', 'Dog', 'Fish']\n"
     ]
    }
   ],
   "source": [
    "x =('Apple', 'Ball', 'Cat','Dog','Fish')\n",
    "y = list(x)\n",
    "print(y)"
   ]
  },
  {
   "cell_type": "code",
   "execution_count": 28,
   "metadata": {},
   "outputs": [
    {
     "data": {
      "text/plain": [
       "('Apple', 'Ball', 'Cat', 'Dog', 'Fish')"
      ]
     },
     "execution_count": 28,
     "metadata": {},
     "output_type": "execute_result"
    }
   ],
   "source": [
    "tuple(y)"
   ]
  },
  {
   "cell_type": "code",
   "execution_count": 29,
   "metadata": {},
   "outputs": [],
   "source": [
    "# tuple inside tuple "
   ]
  },
  {
   "cell_type": "code",
   "execution_count": 30,
   "metadata": {},
   "outputs": [
    {
     "data": {
      "text/plain": [
       "4"
      ]
     },
     "execution_count": 30,
     "metadata": {},
     "output_type": "execute_result"
    }
   ],
   "source": [
    "a = ((),(),(),())\n",
    "len(a)"
   ]
  },
  {
   "cell_type": "code",
   "execution_count": 31,
   "metadata": {},
   "outputs": [
    {
     "data": {
      "text/plain": [
       "4"
      ]
     },
     "execution_count": 31,
     "metadata": {},
     "output_type": "execute_result"
    }
   ],
   "source": [
    "a = ((1,2,3),(4,5,6),(7,8,9),(10,11,12))\n",
    "len(a)"
   ]
  },
  {
   "cell_type": "code",
   "execution_count": 32,
   "metadata": {},
   "outputs": [
    {
     "name": "stdout",
     "output_type": "stream",
     "text": [
      "Enter how many values = 2\n",
      "Enter name = Ram\n",
      "Enter physics marks= 89\n",
      "Enter chemistry marks= 79\n",
      "Enter math marks= 78\n",
      "Enter english marks= 90\n",
      "Enter nepali marks= 89\n",
      "Enter name = Shyam\n",
      "Enter physics marks= 78\n",
      "Enter chemistry marks= 90\n",
      "Enter math marks= 67\n",
      "Enter english marks= 90\n",
      "Enter nepali marks= 78\n",
      "(('Ram', 89, 79, 78, 90, 89), ('Shyam', 78, 90, 67, 90, 78))\n"
     ]
    }
   ],
   "source": [
    "# making tuple inside tuple\n",
    "info = tuple()\n",
    "n = int(input(\"Enter how many values = \"))\n",
    "for i in range(n):\n",
    "    name = input(\"Enter name = \")\n",
    "    physics = int(input(\"Enter physics marks= \"))\n",
    "    chemistry = int(input(\"Enter chemistry marks= \"))\n",
    "    math = int(input(\"Enter math marks= \"))\n",
    "    english = int(input(\"Enter english marks= \"))\n",
    "    nepali = int(input(\"Enter nepali marks= \"))\n",
    "    \n",
    "    marks = (name,physics,chemistry,math,english,nepali)\n",
    "    info = info+(marks,)\n",
    "    \n",
    "print(info)"
   ]
  },
  {
   "cell_type": "code",
   "execution_count": 35,
   "metadata": {},
   "outputs": [
    {
     "name": "stdout",
     "output_type": "stream",
     "text": [
      "<class 'tuple'>\n",
      "4\n"
     ]
    }
   ],
   "source": [
    "# list inside tuple\n",
    "x = ([],[],[],[])\n",
    "print(type(x))\n",
    "print(len(x))"
   ]
  },
  {
   "cell_type": "code",
   "execution_count": 40,
   "metadata": {},
   "outputs": [
    {
     "name": "stdout",
     "output_type": "stream",
     "text": [
      "([1, 2, 3, 4], [4, 5, 6], [7, 8, 9])\n"
     ]
    }
   ],
   "source": [
    "x = ([1,2,3],[4,5,6],[7,8,9])\n",
    "\n",
    "x[0].append(4)\n",
    "print(x)"
   ]
  },
  {
   "cell_type": "code",
   "execution_count": 43,
   "metadata": {},
   "outputs": [
    {
     "name": "stdout",
     "output_type": "stream",
     "text": [
      "([1, 2, 3], [4, 5, 6], [7, 8, 9])\n"
     ]
    }
   ],
   "source": [
    "x = ([1, 2, 3, 4], [4, 5, 6], [7, 8, 9])\n",
    "del x[0][3]\n",
    "print(x)"
   ]
  },
  {
   "cell_type": "code",
   "execution_count": 45,
   "metadata": {},
   "outputs": [
    {
     "data": {
      "text/plain": [
       "([1, 2, 3], [4, 5, 6], [7, 8, 9])"
      ]
     },
     "execution_count": 45,
     "metadata": {},
     "output_type": "execute_result"
    }
   ],
   "source": [
    "x = ([1, 2, 3, 4], [4, 5, 6], [7, 8, 9])\n",
    "x[0].remove(4)\n",
    "x"
   ]
  },
  {
   "cell_type": "code",
   "execution_count": 47,
   "metadata": {},
   "outputs": [
    {
     "name": "stdout",
     "output_type": "stream",
     "text": [
      "Enter how many values = 2\n",
      "Enter name = ram\n",
      "Enter physics marks= 89\n",
      "Enter chemistry marks= 90\n",
      "Enter math marks= 67\n",
      "Enter english marks= 77\n",
      "Enter nepali marks= 99\n",
      "Enter name = Shyam\n",
      "Enter physics marks= 78\n",
      "Enter chemistry marks= 90\n",
      "Enter math marks= 67\n",
      "Enter english marks= 89\n",
      "Enter nepali marks= 90\n",
      "(['ram', 89, 90, 67, 77, 99], ['Shyam', 78, 90, 67, 89, 90])\n"
     ]
    }
   ],
   "source": [
    "# making list inside tuple\n",
    "info = tuple()\n",
    "n = int(input(\"Enter how many values = \"))\n",
    "for i in range(n):\n",
    "    name = input(\"Enter name = \")\n",
    "    physics = int(input(\"Enter physics marks= \"))\n",
    "    chemistry = int(input(\"Enter chemistry marks= \"))\n",
    "    math = int(input(\"Enter math marks= \"))\n",
    "    english = int(input(\"Enter english marks= \"))\n",
    "    nepali = int(input(\"Enter nepali marks= \"))\n",
    "    \n",
    "    marks = [name,physics,chemistry,math,english,nepali]\n",
    "    info = info+(marks,)\n",
    "    \n",
    "print(info)"
   ]
  },
  {
   "cell_type": "code",
   "execution_count": 51,
   "metadata": {},
   "outputs": [
    {
     "data": {
      "text/plain": [
       "[['ram', 89, 90, 67, 77, 99],\n",
       " ['Shyam', 78, 90, 67, 89, 90],\n",
       " ['Hari', 77, 88, 99, 66, 77]]"
      ]
     },
     "execution_count": 51,
     "metadata": {},
     "output_type": "execute_result"
    }
   ],
   "source": [
    "x = (['ram', 89, 90, 67, 77, 99], ['Shyam', 78, 90, 67, 89, 90])\n",
    "y = ['Hari',77,88,99,66,77]\n",
    "z = x+(y,)\n",
    "list(z)"
   ]
  },
  {
   "cell_type": "code",
   "execution_count": null,
   "metadata": {},
   "outputs": [],
   "source": [
    "tuple inside list"
   ]
  }
 ],
 "metadata": {
  "kernelspec": {
   "display_name": "Python 3",
   "language": "python",
   "name": "python3"
  },
  "language_info": {
   "codemirror_mode": {
    "name": "ipython",
    "version": 3
   },
   "file_extension": ".py",
   "mimetype": "text/x-python",
   "name": "python",
   "nbconvert_exporter": "python",
   "pygments_lexer": "ipython3",
   "version": "3.7.1"
  }
 },
 "nbformat": 4,
 "nbformat_minor": 2
}
