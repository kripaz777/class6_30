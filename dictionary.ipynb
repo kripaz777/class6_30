{
 "cells": [
  {
   "cell_type": "code",
   "execution_count": 1,
   "metadata": {},
   "outputs": [
    {
     "data": {
      "text/plain": [
       "dict"
      ]
     },
     "execution_count": 1,
     "metadata": {},
     "output_type": "execute_result"
    }
   ],
   "source": [
    "a = {}\n",
    "type(a)"
   ]
  },
  {
   "cell_type": "code",
   "execution_count": null,
   "metadata": {},
   "outputs": [],
   "source": [
    "# dict = {<key>:<value>,<key>:<value>,....}"
   ]
  },
  {
   "cell_type": "code",
   "execution_count": 3,
   "metadata": {},
   "outputs": [
    {
     "data": {
      "text/plain": [
       "'Ball'"
      ]
     },
     "execution_count": 3,
     "metadata": {},
     "output_type": "execute_result"
    }
   ],
   "source": [
    "a = {\"a\":\"Apple\",\"b\":\"Ball\",\"c\":\"Cat\"}\n",
    "a[\"b\"]"
   ]
  },
  {
   "cell_type": "code",
   "execution_count": 4,
   "metadata": {},
   "outputs": [
    {
     "data": {
      "text/plain": [
       "{'a': 'Apple', 'b': 'Ball', 'c': 'Cat', 'A': 'Apple'}"
      ]
     },
     "execution_count": 4,
     "metadata": {},
     "output_type": "execute_result"
    }
   ],
   "source": [
    "a = {\"a\":\"Apple\",\"b\":\"Ball\",\"c\":\"Cat\",\"A\":\"Apple\"}\n",
    "a"
   ]
  },
  {
   "cell_type": "code",
   "execution_count": 6,
   "metadata": {},
   "outputs": [
    {
     "data": {
      "text/plain": [
       "{'a': 'Ant', 'b': 'Ball', 'c': 'Cat'}"
      ]
     },
     "execution_count": 6,
     "metadata": {},
     "output_type": "execute_result"
    }
   ],
   "source": [
    "x = {\"a\":\"Apple\",\"b\":\"Ball\",\"c\":\"Cat\",\"a\":\"Ant\"}\n",
    "x"
   ]
  },
  {
   "cell_type": "code",
   "execution_count": 10,
   "metadata": {},
   "outputs": [
    {
     "data": {
      "text/plain": [
       "{'a': 'Apple', 'b': 'Ball', 'c': 'Cat'}"
      ]
     },
     "execution_count": 10,
     "metadata": {},
     "output_type": "execute_result"
    }
   ],
   "source": [
    "x = {}\n",
    "x[\"a\"] = \"Apple\"\n",
    "x[\"b\"] = \"Ball\"\n",
    "x[\"c\"] = \"Cat\"\n",
    "x"
   ]
  },
  {
   "cell_type": "code",
   "execution_count": 11,
   "metadata": {},
   "outputs": [
    {
     "name": "stdout",
     "output_type": "stream",
     "text": [
      "a\n",
      "b\n",
      "c\n"
     ]
    }
   ],
   "source": [
    "for i in x:\n",
    "    print(i)"
   ]
  },
  {
   "cell_type": "code",
   "execution_count": 12,
   "metadata": {},
   "outputs": [
    {
     "name": "stdout",
     "output_type": "stream",
     "text": [
      "Apple\n",
      "Ball\n",
      "Cat\n"
     ]
    }
   ],
   "source": [
    "for i in x.values():\n",
    "    print(i)"
   ]
  },
  {
   "cell_type": "code",
   "execution_count": 13,
   "metadata": {},
   "outputs": [
    {
     "name": "stdout",
     "output_type": "stream",
     "text": [
      "('a', 'Apple')\n",
      "('b', 'Ball')\n",
      "('c', 'Cat')\n"
     ]
    }
   ],
   "source": [
    "for i in x.items():\n",
    "    print(i)"
   ]
  },
  {
   "cell_type": "code",
   "execution_count": 14,
   "metadata": {},
   "outputs": [
    {
     "ename": "TypeError",
     "evalue": "unsupported operand type(s) for +: 'dict' and 'dict'",
     "output_type": "error",
     "traceback": [
      "\u001b[1;31m---------------------------------------------------------------------------\u001b[0m",
      "\u001b[1;31mTypeError\u001b[0m                                 Traceback (most recent call last)",
      "\u001b[1;32m<ipython-input-14-e5513b4d8ec1>\u001b[0m in \u001b[0;36m<module>\u001b[1;34m\u001b[0m\n\u001b[0;32m      1\u001b[0m \u001b[0mx\u001b[0m \u001b[1;33m=\u001b[0m \u001b[1;33m{\u001b[0m\u001b[1;34m'a'\u001b[0m\u001b[1;33m:\u001b[0m \u001b[1;34m'Apple'\u001b[0m\u001b[1;33m,\u001b[0m \u001b[1;34m'b'\u001b[0m\u001b[1;33m:\u001b[0m \u001b[1;34m'Ball'\u001b[0m\u001b[1;33m,\u001b[0m \u001b[1;34m'c'\u001b[0m\u001b[1;33m:\u001b[0m \u001b[1;34m'Cat'\u001b[0m\u001b[1;33m}\u001b[0m\u001b[1;33m\u001b[0m\u001b[1;33m\u001b[0m\u001b[0m\n\u001b[0;32m      2\u001b[0m \u001b[0my\u001b[0m \u001b[1;33m=\u001b[0m \u001b[1;33m{\u001b[0m\u001b[1;34m'd'\u001b[0m\u001b[1;33m:\u001b[0m\u001b[1;34m'dog'\u001b[0m\u001b[1;33m}\u001b[0m\u001b[1;33m\u001b[0m\u001b[1;33m\u001b[0m\u001b[0m\n\u001b[1;32m----> 3\u001b[1;33m \u001b[0mx\u001b[0m\u001b[1;33m+\u001b[0m\u001b[0my\u001b[0m\u001b[1;33m\u001b[0m\u001b[1;33m\u001b[0m\u001b[0m\n\u001b[0m",
      "\u001b[1;31mTypeError\u001b[0m: unsupported operand type(s) for +: 'dict' and 'dict'"
     ]
    }
   ],
   "source": [
    "x = {'a': 'Apple', 'b': 'Ball', 'c': 'Cat'}\n",
    "y = {'d':'dog'}\n",
    "x+y"
   ]
  },
  {
   "cell_type": "code",
   "execution_count": 15,
   "metadata": {},
   "outputs": [
    {
     "ename": "TypeError",
     "evalue": "unsupported operand type(s) for *: 'dict' and 'int'",
     "output_type": "error",
     "traceback": [
      "\u001b[1;31m---------------------------------------------------------------------------\u001b[0m",
      "\u001b[1;31mTypeError\u001b[0m                                 Traceback (most recent call last)",
      "\u001b[1;32m<ipython-input-15-6aa921390e69>\u001b[0m in \u001b[0;36m<module>\u001b[1;34m\u001b[0m\n\u001b[0;32m      1\u001b[0m \u001b[0mx\u001b[0m \u001b[1;33m=\u001b[0m \u001b[1;33m{\u001b[0m\u001b[1;34m'a'\u001b[0m\u001b[1;33m:\u001b[0m \u001b[1;34m'Apple'\u001b[0m\u001b[1;33m,\u001b[0m \u001b[1;34m'b'\u001b[0m\u001b[1;33m:\u001b[0m \u001b[1;34m'Ball'\u001b[0m\u001b[1;33m,\u001b[0m \u001b[1;34m'c'\u001b[0m\u001b[1;33m:\u001b[0m \u001b[1;34m'Cat'\u001b[0m\u001b[1;33m}\u001b[0m\u001b[1;33m\u001b[0m\u001b[1;33m\u001b[0m\u001b[0m\n\u001b[1;32m----> 2\u001b[1;33m \u001b[0mx\u001b[0m\u001b[1;33m*\u001b[0m\u001b[1;36m2\u001b[0m\u001b[1;33m\u001b[0m\u001b[1;33m\u001b[0m\u001b[0m\n\u001b[0m",
      "\u001b[1;31mTypeError\u001b[0m: unsupported operand type(s) for *: 'dict' and 'int'"
     ]
    }
   ],
   "source": [
    "x = {'a': 'Apple', 'b': 'Ball', 'c': 'Cat'}\n",
    "x*2"
   ]
  },
  {
   "cell_type": "code",
   "execution_count": 16,
   "metadata": {},
   "outputs": [
    {
     "name": "stdout",
     "output_type": "stream",
     "text": [
      "Enter value of n = 2\n",
      "Enter name=Ram\n",
      "Enter phone=9856776876\n",
      "Enter name=Shyam\n",
      "Enter phone=9867556545\n",
      "{'Ram': '9856776876', 'Shyam': '9867556545'}\n"
     ]
    }
   ],
   "source": [
    "info = {}\n",
    "n = int(input(\"Enter value of n = \"))\n",
    "for i in range(n):\n",
    "    name = input(\"Enter name=\")\n",
    "    phone = input(\"Enter phone=\")\n",
    "    info[name] = phone\n",
    "print(info)\n",
    "    "
   ]
  },
  {
   "cell_type": "code",
   "execution_count": 17,
   "metadata": {},
   "outputs": [
    {
     "data": {
      "text/plain": [
       "{'Ram': '9856776876', 'Shyam': '9867556545'}"
      ]
     },
     "execution_count": 17,
     "metadata": {},
     "output_type": "execute_result"
    }
   ],
   "source": [
    "x = {'Ram': '9856776876', 'Shyam': '9867556545'}\n",
    "x"
   ]
  },
  {
   "cell_type": "code",
   "execution_count": 18,
   "metadata": {},
   "outputs": [
    {
     "data": {
      "text/plain": [
       "{1: 9856776876, 2: 9867556545}"
      ]
     },
     "execution_count": 18,
     "metadata": {},
     "output_type": "execute_result"
    }
   ],
   "source": [
    "x ={1: 9856776876, 2: 9867556545}\n",
    "x"
   ]
  },
  {
   "cell_type": "code",
   "execution_count": 20,
   "metadata": {},
   "outputs": [
    {
     "ename": "TypeError",
     "evalue": "unhashable type: 'list'",
     "output_type": "error",
     "traceback": [
      "\u001b[1;31m---------------------------------------------------------------------------\u001b[0m",
      "\u001b[1;31mTypeError\u001b[0m                                 Traceback (most recent call last)",
      "\u001b[1;32m<ipython-input-20-5c9e4ac17057>\u001b[0m in \u001b[0;36m<module>\u001b[1;34m\u001b[0m\n\u001b[1;32m----> 1\u001b[1;33m \u001b[0mx\u001b[0m \u001b[1;33m=\u001b[0m\u001b[1;33m{\u001b[0m\u001b[1;33m[\u001b[0m\u001b[1;36m1\u001b[0m\u001b[1;33m]\u001b[0m\u001b[1;33m:\u001b[0m \u001b[1;36m9856776876\u001b[0m\u001b[1;33m,\u001b[0m \u001b[1;33m[\u001b[0m\u001b[1;36m2\u001b[0m\u001b[1;33m]\u001b[0m\u001b[1;33m:\u001b[0m \u001b[1;36m9867556545\u001b[0m\u001b[1;33m}\u001b[0m\u001b[1;33m\u001b[0m\u001b[1;33m\u001b[0m\u001b[0m\n\u001b[0m\u001b[0;32m      2\u001b[0m \u001b[0mx\u001b[0m\u001b[1;33m\u001b[0m\u001b[1;33m\u001b[0m\u001b[0m\n",
      "\u001b[1;31mTypeError\u001b[0m: unhashable type: 'list'"
     ]
    }
   ],
   "source": [
    "x ={[1]: 9856776876, [2]: 9867556545}\n",
    "x"
   ]
  },
  {
   "cell_type": "code",
   "execution_count": 22,
   "metadata": {},
   "outputs": [
    {
     "data": {
      "text/plain": [
       "{(1,): 9856776876, (2,): 9867556545}"
      ]
     },
     "execution_count": 22,
     "metadata": {},
     "output_type": "execute_result"
    }
   ],
   "source": [
    "x ={(1,): 9856776876, (2,): 9867556545}\n",
    "x"
   ]
  },
  {
   "cell_type": "code",
   "execution_count": 23,
   "metadata": {},
   "outputs": [
    {
     "ename": "TypeError",
     "evalue": "unhashable type: 'dict'",
     "output_type": "error",
     "traceback": [
      "\u001b[1;31m---------------------------------------------------------------------------\u001b[0m",
      "\u001b[1;31mTypeError\u001b[0m                                 Traceback (most recent call last)",
      "\u001b[1;32m<ipython-input-23-d746bd03b697>\u001b[0m in \u001b[0;36m<module>\u001b[1;34m\u001b[0m\n\u001b[1;32m----> 1\u001b[1;33m \u001b[0mx\u001b[0m \u001b[1;33m=\u001b[0m\u001b[1;33m{\u001b[0m\u001b[1;33m{\u001b[0m\u001b[1;36m1\u001b[0m\u001b[1;33m:\u001b[0m\u001b[1;36m1\u001b[0m\u001b[1;33m}\u001b[0m\u001b[1;33m:\u001b[0m \u001b[1;36m9856776876\u001b[0m\u001b[1;33m,\u001b[0m \u001b[1;33m{\u001b[0m\u001b[1;36m2\u001b[0m\u001b[1;33m:\u001b[0m\u001b[1;36m2\u001b[0m\u001b[1;33m}\u001b[0m\u001b[1;33m:\u001b[0m \u001b[1;36m9867556545\u001b[0m\u001b[1;33m}\u001b[0m\u001b[1;33m\u001b[0m\u001b[1;33m\u001b[0m\u001b[0m\n\u001b[0m\u001b[0;32m      2\u001b[0m \u001b[0mx\u001b[0m\u001b[1;33m\u001b[0m\u001b[1;33m\u001b[0m\u001b[0m\n",
      "\u001b[1;31mTypeError\u001b[0m: unhashable type: 'dict'"
     ]
    }
   ],
   "source": [
    "x ={{1:1}: 9856776876, {2:2}: 9867556545}\n",
    "x"
   ]
  },
  {
   "cell_type": "code",
   "execution_count": 24,
   "metadata": {},
   "outputs": [
    {
     "data": {
      "text/plain": [
       "{'Ram': [9867665454, 987767690], 'Shyam': [4433565, 4412334]}"
      ]
     },
     "execution_count": 24,
     "metadata": {},
     "output_type": "execute_result"
    }
   ],
   "source": [
    "# list inside dict\n",
    "info = {\"Ram\":[9867665454,987767690],\"Shyam\":[4433565,4412334]}\n",
    "info"
   ]
  },
  {
   "cell_type": "code",
   "execution_count": 25,
   "metadata": {},
   "outputs": [
    {
     "data": {
      "text/plain": [
       "[9867665454, 987767690]"
      ]
     },
     "execution_count": 25,
     "metadata": {},
     "output_type": "execute_result"
    }
   ],
   "source": [
    "info['Ram']"
   ]
  },
  {
   "cell_type": "code",
   "execution_count": 27,
   "metadata": {},
   "outputs": [
    {
     "name": "stdout",
     "output_type": "stream",
     "text": [
      "('Ram', [9867665454, 987767690])\n",
      "('Shyam', [4433565, 4412334])\n"
     ]
    }
   ],
   "source": [
    "for i in info.items():\n",
    "    print(i)"
   ]
  },
  {
   "cell_type": "code",
   "execution_count": 29,
   "metadata": {},
   "outputs": [
    {
     "name": "stdout",
     "output_type": "stream",
     "text": [
      "Enter n = 2\n",
      "Enter name = Ra\n",
      "Enter phone1 = 9866765654\n",
      "Enter phone2 = 9867665434\n",
      "Enter name = Shyam\n",
      "Enter phone1 = 6754334543\n",
      "Enter phone2 = 2343423423\n",
      "{'Ra': ['9866765654', '9867665434'], 'Shyam': ['6754334543', '2343423423']}\n"
     ]
    }
   ],
   "source": [
    "info = {}\n",
    "n = int(input(\"Enter n = \"))\n",
    "for i in range(n):\n",
    "    name = input(\"Enter name = \")\n",
    "    phone1 = input(\"Enter phone1 = \")\n",
    "    phone2 = input(\"Enter phone2 = \")\n",
    "    info[name] = [phone1,phone2]\n",
    "print(info)"
   ]
  },
  {
   "cell_type": "code",
   "execution_count": 30,
   "metadata": {},
   "outputs": [
    {
     "name": "stdout",
     "output_type": "stream",
     "text": [
      "Enter how many values = 2\n",
      "Enter name = Ram\n",
      "Enter physics marks= 89\n",
      "Enter chemistry marks= 78\n",
      "Enter math marks= 67\n",
      "Enter english marks= 90\n",
      "Enter nepali marks= 78\n",
      "Enter name = Shyam\n",
      "Enter physics marks= 78\n",
      "Enter chemistry marks= 90\n",
      "Enter math marks= 56\n",
      "Enter english marks= 78\n",
      "Enter nepali marks= 45\n",
      "{'Ram': [89, 78, 67, 90, 78], 'Shyam': [78, 90, 56, 78, 45]}\n"
     ]
    }
   ],
   "source": [
    "info = {}\n",
    "n = int(input(\"Enter how many values = \"))\n",
    "for i in range(n):\n",
    "    name = input(\"Enter name = \")\n",
    "    physics = int(input(\"Enter physics marks= \"))\n",
    "    chemistry = int(input(\"Enter chemistry marks= \"))\n",
    "    math = int(input(\"Enter math marks= \"))\n",
    "    english = int(input(\"Enter english marks= \"))\n",
    "    nepali = int(input(\"Enter nepali marks= \"))\n",
    "    \n",
    "    info[name] = [physics,chemistry,math,english,nepali]\n",
    "   \n",
    "    \n",
    "print(info)"
   ]
  },
  {
   "cell_type": "code",
   "execution_count": 12,
   "metadata": {},
   "outputs": [
    {
     "name": "stdout",
     "output_type": "stream",
     "text": [
      "{'Ram': [89, 78, 67, 90, 87], 'Shyam': [78, 90, 56, 78, 45]}\n"
     ]
    }
   ],
   "source": [
    "x = {'Ram': [89, 78, 67, 90, 78], 'Shyam': [78, 90, 56, 78, 45]}\n",
    "x['Ram'][4] = 87\n",
    "print(x)"
   ]
  },
  {
   "cell_type": "code",
   "execution_count": 2,
   "metadata": {},
   "outputs": [
    {
     "name": "stdout",
     "output_type": "stream",
     "text": [
      "Enter how many values = 2\n",
      "Enter name = Ram\n",
      "Enter physics marks= 79\n",
      "Enter chemistry marks= 87\n",
      "Enter math marks= 67\n",
      "Enter english marks= 90\n",
      "Enter nepali marks= 78\n",
      "Enter name = Shyam\n",
      "Enter physics marks= 78\n",
      "Enter chemistry marks= 90\n",
      "Enter math marks= 67\n",
      "Enter english marks= 89\n",
      "Enter nepali marks= 78\n",
      "{'Name': ['Ram', 'Shyam'], 'Physics': [79, 78], 'Chemistry': [87, 90], 'Math': [67, 67], 'English': [90, 89], 'Nepali': [78, 78]}\n"
     ]
    }
   ],
   "source": [
    "na = []\n",
    "ph = []\n",
    "ch = []\n",
    "mt = []\n",
    "eg = []\n",
    "np = []\n",
    "\n",
    "n = int(input(\"Enter how many values = \"))\n",
    "for i in range(n):\n",
    "    name = input(\"Enter name = \")\n",
    "    physics = int(input(\"Enter physics marks= \"))\n",
    "    chemistry = int(input(\"Enter chemistry marks= \"))\n",
    "    math = int(input(\"Enter math marks= \"))\n",
    "    english = int(input(\"Enter english marks= \"))\n",
    "    nepali = int(input(\"Enter nepali marks= \"))\n",
    "    \n",
    "    na.append(name)\n",
    "    ph.append(physics)\n",
    "    ch.append(chemistry)\n",
    "    mt.append(math)\n",
    "    eg.append(english)\n",
    "    np.append(nepali)\n",
    "    \n",
    "    \n",
    "info = {\"Name\":na,\"Physics\":ph,\"Chemistry\":ch,\"Math\":mt,\"English\":eg,\"Nepali\":np}\n",
    "    \n",
    "print(info)"
   ]
  },
  {
   "cell_type": "code",
   "execution_count": null,
   "metadata": {},
   "outputs": [],
   "source": [
    "x = {'Name': ['Ram', 'Shyam'], 'Physics': [79, 78], 'Chemistry': [87, 90], 'Math': [67, 67], 'English': [90, 89], 'Nepali': [78, 78]}\n",
    "x"
   ]
  },
  {
   "cell_type": "markdown",
   "metadata": {},
   "source": [
    "###### "
   ]
  },
  {
   "cell_type": "code",
   "execution_count": 3,
   "metadata": {},
   "outputs": [
    {
     "name": "stdout",
     "output_type": "stream",
     "text": [
      "Enter how many values = 2\n",
      "Enter name = Ram\n",
      "Enter physics marks= 89\n",
      "Enter chemistry marks= 67\n",
      "Enter math marks= 65\n",
      "Enter english marks= 89\n",
      "Enter nepali marks= 56\n",
      "Enter name = 89\n",
      "Enter physics marks= 23\n",
      "Enter chemistry marks= 56\n",
      "Enter math marks= 6\n",
      "Enter english marks= 56\n",
      "Enter nepali marks= 57\n",
      "{'Ram': (89, 67, 65, 89, 56), '89': (23, 56, 6, 56, 57)}\n"
     ]
    }
   ],
   "source": [
    "# tuple inside dict\n",
    "info = {}\n",
    "n = int(input(\"Enter how many values = \"))\n",
    "for i in range(n):\n",
    "    name = input(\"Enter name = \")\n",
    "    physics = int(input(\"Enter physics marks= \"))\n",
    "    chemistry = int(input(\"Enter chemistry marks= \"))\n",
    "    math = int(input(\"Enter math marks= \"))\n",
    "    english = int(input(\"Enter english marks= \"))\n",
    "    nepali = int(input(\"Enter nepali marks= \"))\n",
    "    \n",
    "    info[name] = (physics,chemistry,math,english,nepali)\n",
    "   \n",
    "    \n",
    "print(info)"
   ]
  },
  {
   "cell_type": "code",
   "execution_count": 4,
   "metadata": {},
   "outputs": [],
   "source": [
    "# # dict inside dict\n",
    "# a = {<key>:{<key>:<value},...}"
   ]
  },
  {
   "cell_type": "code",
   "execution_count": 5,
   "metadata": {},
   "outputs": [
    {
     "name": "stdout",
     "output_type": "stream",
     "text": [
      "Enter value of n = 2\n",
      "Enter name=Ram\n",
      "Enter home phone = 4434332\n",
      "Enter office_phone= 9877654345\n",
      "Enter name=Shyam\n",
      "Enter home phone = 4490776\n",
      "Enter office_phone= 9856443564\n",
      "{'Ram': {'Home Phone': 4434332, 'Office Phone': '9877654345'}, 'Shyam': {'Home Phone': 4490776, 'Office Phone': '9856443564'}}\n"
     ]
    }
   ],
   "source": [
    "info = {}\n",
    "n = int(input(\"Enter value of n = \"))\n",
    "for i in range(n):\n",
    "    name = input(\"Enter name=\")\n",
    "    home_phone = int(input(\"Enter home phone = \"))\n",
    "    office_phone = input(\"Enter office_phone= \")\n",
    "    info[name] = {\"Home Phone\": home_phone,\"Office Phone\":office_phone}\n",
    "    \n",
    "print(info)\n",
    "    "
   ]
  },
  {
   "cell_type": "code",
   "execution_count": 7,
   "metadata": {},
   "outputs": [
    {
     "name": "stdout",
     "output_type": "stream",
     "text": [
      "('Ram', {'Home Phone': 4434332, 'Office Phone': '9877654345'})\n",
      "('Shyam', {'Home Phone': 4490776, 'Office Phone': '9856443564'})\n"
     ]
    }
   ],
   "source": [
    "for i in info.items():\n",
    "    print(i)"
   ]
  },
  {
   "cell_type": "code",
   "execution_count": 10,
   "metadata": {},
   "outputs": [
    {
     "name": "stdout",
     "output_type": "stream",
     "text": [
      "{'Ram': {'Home Phone': 4434332, 'Office Phone': 98000000}, 'Shyam': {'Home Phone': 4490776, 'Office Phone': '9856443564'}}\n"
     ]
    }
   ],
   "source": [
    "info['Ram']['Office Phone'] = 98000000\n",
    "print(info)"
   ]
  },
  {
   "cell_type": "code",
   "execution_count": 11,
   "metadata": {},
   "outputs": [
    {
     "name": "stdout",
     "output_type": "stream",
     "text": [
      "{'Ram': {'Home Phone': 4434332}, 'Shyam': {'Home Phone': 4490776, 'Office Phone': '9856443564'}}\n"
     ]
    }
   ],
   "source": [
    "del info['Ram']['Office Phone']\n",
    "print(info)"
   ]
  },
  {
   "cell_type": "code",
   "execution_count": 1,
   "metadata": {},
   "outputs": [],
   "source": [
    "# # dicts indide dicts\n",
    "# a = {<key>:{<key>:<value>,<key>:<value>},.....}"
   ]
  },
  {
   "cell_type": "code",
   "execution_count": 2,
   "metadata": {},
   "outputs": [
    {
     "data": {
      "text/plain": [
       "{1: {1: 'a', 2: 'b'}, 2: {3: 'c', 4: 'd'}}"
      ]
     },
     "execution_count": 2,
     "metadata": {},
     "output_type": "execute_result"
    }
   ],
   "source": [
    "a = {1:{1:'a',2:'b'},2:{3:'c',4:'d'}}\n",
    "a"
   ]
  },
  {
   "cell_type": "code",
   "execution_count": 3,
   "metadata": {},
   "outputs": [
    {
     "data": {
      "text/plain": [
       "{'Ram': {'landline': 4457778, 'Mobile': 9867665},\n",
       " 'Shyam': {'landline': 4456554, 'Mobile': 986766545}}"
      ]
     },
     "execution_count": 3,
     "metadata": {},
     "output_type": "execute_result"
    }
   ],
   "source": [
    "info = {\"Ram\":{\"landline\":4457778,\"Mobile\":9867665},'Shyam':{'landline':4456554,'Mobile':986766545}}\n",
    "info"
   ]
  },
  {
   "cell_type": "code",
   "execution_count": 5,
   "metadata": {},
   "outputs": [
    {
     "data": {
      "text/plain": [
       "4457778"
      ]
     },
     "execution_count": 5,
     "metadata": {},
     "output_type": "execute_result"
    }
   ],
   "source": [
    "info['Ram']['landline']"
   ]
  },
  {
   "cell_type": "code",
   "execution_count": 6,
   "metadata": {},
   "outputs": [
    {
     "data": {
      "text/plain": [
       "{'Ram': {'landline': 4457778, 'Mobile': 9867665},\n",
       " 'Shyam': {'landline': 4456554, 'Mobile': 986766545},\n",
       " 'Hari': {'landline': 4478776, 'Mobile': 98678776}}"
      ]
     },
     "execution_count": 6,
     "metadata": {},
     "output_type": "execute_result"
    }
   ],
   "source": [
    "info['Hari'] = {\"landline\":4478776,\"Mobile\":98678776}\n",
    "info"
   ]
  },
  {
   "cell_type": "code",
   "execution_count": 7,
   "metadata": {},
   "outputs": [
    {
     "data": {
      "text/plain": [
       "{'Ram': {'landline': 4457778, 'Mobile': 9867665},\n",
       " 'Shyam': {'landline': 4456554, 'Mobile': 986766545},\n",
       " 'Hari': {'landline': 4400000, 'Mobile': 9867877600}}"
      ]
     },
     "execution_count": 7,
     "metadata": {},
     "output_type": "execute_result"
    }
   ],
   "source": [
    "info['Hari'] = {\"landline\":4400000,\"Mobile\":9867877600}\n",
    "info"
   ]
  },
  {
   "cell_type": "code",
   "execution_count": 8,
   "metadata": {},
   "outputs": [
    {
     "data": {
      "text/plain": [
       "{'Ram': {'landline': 4457778, 'Mobile': 9867665},\n",
       " 'Shyam': {'landline': 4456554, 'Mobile': 986766545},\n",
       " 'Hari': {'landline': 20000000, 'Mobile': 9867877600}}"
      ]
     },
     "execution_count": 8,
     "metadata": {},
     "output_type": "execute_result"
    }
   ],
   "source": [
    "info['Hari']['landline'] = 20000000\n",
    "info"
   ]
  },
  {
   "cell_type": "code",
   "execution_count": 9,
   "metadata": {},
   "outputs": [
    {
     "data": {
      "text/plain": [
       "{'Ram': {'landline': 4457778, 'Mobile': 9867665},\n",
       " 'Shyam': {'landline': 4456554, 'Mobile': 986766545},\n",
       " 'Hari': {'landline': 20000000, 'Mobile': 9867877600, 'landline1': 4456776}}"
      ]
     },
     "execution_count": 9,
     "metadata": {},
     "output_type": "execute_result"
    }
   ],
   "source": [
    "info['Hari']['landline1'] = 4456776\n",
    "info"
   ]
  },
  {
   "cell_type": "code",
   "execution_count": 10,
   "metadata": {},
   "outputs": [
    {
     "name": "stdout",
     "output_type": "stream",
     "text": [
      "Enter value of n =2\n",
      "Enter name = Ram\n",
      "Enter age = 89\n",
      "Enter address = Patan\n",
      "Enter phone = 9867665\n",
      "Enter name = Shyam\n",
      "Enter age = 78\n",
      "Enter address = Kathmandu\n",
      "Enter phone = 9856554\n",
      "{'9867665': {'Name': 'Ram', 'Age': 89, 'Address': 'Patan'}, '9856554': {'Name': 'Shyam', 'Age': 78, 'Address': 'Kathmandu'}}\n"
     ]
    }
   ],
   "source": [
    "infos = {}\n",
    "n = int(input(\"Enter value of n =\"))\n",
    "for i in range(n):\n",
    "    name = input(\"Enter name = \")\n",
    "    age = int(input(\"Enter age = \"))\n",
    "    add = input(\"Enter address = \")\n",
    "    phone = input(\"Enter phone = \")\n",
    "    infos[phone] = {'Name':name,'Age':age,'Address':add}\n",
    "print(infos)"
   ]
  },
  {
   "cell_type": "code",
   "execution_count": 14,
   "metadata": {},
   "outputs": [
    {
     "name": "stdout",
     "output_type": "stream",
     "text": [
      "Enter country = USA\n",
      "Enter phone = 9867665\n",
      "Enter country = Nepal\n",
      "Enter phone = 9856554\n",
      "{'9867665': {'Name': 'Ram', 'Age': 89, 'Address': 'Patan', 'Country': 'USA'}, '9856554': {'Name': 'Shyam', 'Age': 78, 'Address': 'Kathmandu', 'Country': 'Nepal'}}\n"
     ]
    }
   ],
   "source": [
    "info = {'9867665': {'Name': 'Ram', 'Age': 89, 'Address': 'Patan'}, \n",
    "        '9856554': {'Name': 'Shyam', 'Age': 78, 'Address': 'Kathmandu'}}\n",
    "n = len(info)\n",
    "for i in range(n):\n",
    "    country = input(\"Enter country = \")\n",
    "    phone = input(\"Enter phone = \")\n",
    "    \n",
    "    info[phone]['Country'] = country\n",
    "print(info)"
   ]
  },
  {
   "cell_type": "code",
   "execution_count": 1,
   "metadata": {},
   "outputs": [
    {
     "name": "stdout",
     "output_type": "stream",
     "text": [
      "Enter country = USA\n",
      "Enter country = NEpal\n"
     ]
    },
    {
     "data": {
      "text/plain": [
       "{1: {'Name': 'Ram',\n",
       "  'Age': 89,\n",
       "  'Address': 'Patan',\n",
       "  'Phone': 9856554,\n",
       "  'Country': 'USA'},\n",
       " 2: {'Name': 'Shyam',\n",
       "  'Age': 78,\n",
       "  'Address': 'Kathmandu',\n",
       "  'Phone': 9867554543,\n",
       "  'Country': 'NEpal'}}"
      ]
     },
     "execution_count": 1,
     "metadata": {},
     "output_type": "execute_result"
    }
   ],
   "source": [
    "info = {1:{'Name': 'Ram', 'Age': 89, 'Address': 'Patan','Phone':9856554}, \n",
    "        2:{'Name': 'Shyam', 'Age': 78, 'Address': 'Kathmandu','Phone':9867554543}}\n",
    "n = len(info)\n",
    "for i in range(1,n+1):\n",
    "    country = input(\"Enter country = \")\n",
    "    info[i]['Country'] =country\n",
    "info"
   ]
  },
  {
   "cell_type": "code",
   "execution_count": 2,
   "metadata": {},
   "outputs": [
    {
     "data": {
      "text/plain": [
       "{'games': {'Cricket', 'Football'}, 'books': {'Science', 'math'}}"
      ]
     },
     "execution_count": 2,
     "metadata": {},
     "output_type": "execute_result"
    }
   ],
   "source": [
    "a = {'games':{'Cricket','Football'},'books':{'Science','math'}}\n",
    "a"
   ]
  },
  {
   "cell_type": "code",
   "execution_count": 3,
   "metadata": {},
   "outputs": [
    {
     "name": "stdout",
     "output_type": "stream",
     "text": [
      "Enter multiple value: 1 2 3 4 5 6 7 8 9 10\n",
      "Number of list is:  [1, 2, 3, 4, 5, 6, 7, 8, 9, 10]\n"
     ]
    }
   ],
   "source": [
    "x = [int(x) for x in input(\"Enter multiple value: \").split()] \n",
    "print(\"Number of list is: \", x)\n"
   ]
  },
  {
   "cell_type": "code",
   "execution_count": 4,
   "metadata": {},
   "outputs": [
    {
     "name": "stdout",
     "output_type": "stream",
     "text": [
      "Enter multiple value: Apple Ball Cat Dog\n",
      "Number of list is:  ['Apple', 'Ball', 'Cat', 'Dog']\n"
     ]
    }
   ],
   "source": [
    "x = [x for x in input(\"Enter multiple value: \").split()] \n",
    "print(\"Number of list is: \", x)\n"
   ]
  },
  {
   "cell_type": "code",
   "execution_count": 5,
   "metadata": {},
   "outputs": [
    {
     "name": "stdout",
     "output_type": "stream",
     "text": [
      "Enter multiple value: Kathmandu Nepal . Ram Prasad\n",
      "Number of list is:  ['Kathmandu Nepal ', ' Ram Prasad']\n"
     ]
    }
   ],
   "source": [
    "x = [x for x in input(\"Enter multiple value: \").split('.')] \n",
    "print(\"Number of list is: \", x)\n"
   ]
  },
  {
   "cell_type": "code",
   "execution_count": 6,
   "metadata": {},
   "outputs": [
    {
     "name": "stdout",
     "output_type": "stream",
     "text": [
      "Enter multiple value: Appe.Ball.Cat.Apple\n",
      "Number of list is:  {'Cat', 'Appe', 'Ball', 'Apple'}\n"
     ]
    }
   ],
   "source": [
    "x = {x for x in input(\"Enter multiple value: \").split('.')} \n",
    "print(\"Number of list is: \", x)\n"
   ]
  },
  {
   "cell_type": "code",
   "execution_count": null,
   "metadata": {},
   "outputs": [],
   "source": [
    "a = {'Cat', 'Appe', 'Ball', 'Apple'}\n",
    "b = {'c':'Cat', 'a':'Appe', 'b':'Ball', 'A':'Apple'}"
   ]
  },
  {
   "cell_type": "code",
   "execution_count": null,
   "metadata": {},
   "outputs": [],
   "source": [
    "# Comper dicts\n",
    "# billing system"
   ]
  },
  {
   "cell_type": "code",
   "execution_count": 13,
   "metadata": {},
   "outputs": [
    {
     "data": {
      "text/plain": [
       "False"
      ]
     },
     "execution_count": 13,
     "metadata": {},
     "output_type": "execute_result"
    }
   ],
   "source": [
    "string = \"ABccgfgfSDG\"\n",
    "a = \"APPLe\"\n",
    "\n",
    "a.isupper()"
   ]
  },
  {
   "cell_type": "code",
   "execution_count": 12,
   "metadata": {},
   "outputs": [
    {
     "name": "stdout",
     "output_type": "stream",
     "text": [
      "['A', 'B', 'S', 'D', 'G']\n"
     ]
    }
   ],
   "source": [
    "upper = []\n",
    "string=\"ABccgfgfSDG\"\n",
    "a = list(string)\n",
    "for i in a:\n",
    "    if i.isupper() == True:\n",
    "        upper.append(i)\n",
    "\n",
    "print(upper)"
   ]
  },
  {
   "cell_type": "code",
   "execution_count": 14,
   "metadata": {},
   "outputs": [
    {
     "name": "stdout",
     "output_type": "stream",
     "text": [
      "['A', 'B', 'S', 'D', 'G']\n",
      "['c', 'c', 'g', 'f', 'g', 'f']\n",
      "Total no of uppercase alphabet is = 5\n",
      "Total no of lowercase alphabet is = 6\n"
     ]
    }
   ],
   "source": [
    "upper = []\n",
    "lower = []\n",
    "string=\"ABccgfgfSDG\"\n",
    "a = list(string)\n",
    "for i in a:\n",
    "    if i.isupper() == True:\n",
    "        upper.append(i)\n",
    "    else:\n",
    "        lower.append(i)\n",
    "print(upper)\n",
    "print(lower)\n",
    "print(\"Total no of uppercase alphabet is =\",len(upper))\n",
    "print(\"Total no of lowercase alphabet is =\",len(lower))"
   ]
  },
  {
   "cell_type": "code",
   "execution_count": null,
   "metadata": {},
   "outputs": [],
   "source": []
  }
 ],
 "metadata": {
  "kernelspec": {
   "display_name": "Python 3",
   "language": "python",
   "name": "python3"
  },
  "language_info": {
   "codemirror_mode": {
    "name": "ipython",
    "version": 3
   },
   "file_extension": ".py",
   "mimetype": "text/x-python",
   "name": "python",
   "nbconvert_exporter": "python",
   "pygments_lexer": "ipython3",
   "version": "3.5.5"
  }
 },
 "nbformat": 4,
 "nbformat_minor": 2
}
