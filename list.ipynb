{
 "cells": [
  {
   "cell_type": "code",
   "execution_count": 4,
   "metadata": {},
   "outputs": [
    {
     "name": "stdout",
     "output_type": "stream",
     "text": [
      "['Apple', 'Ball', 'Cat']\n",
      "<class 'list'>\n"
     ]
    }
   ],
   "source": [
    "a = [\"Apple\",\"Ball\",\"Cat\"]\n",
    "print(a)\n",
    "print(type(a))"
   ]
  },
  {
   "cell_type": "code",
   "execution_count": null,
   "metadata": {},
   "outputs": [],
   "source": [
    "b = [1,2,3,4,5]"
   ]
  },
  {
   "cell_type": "code",
   "execution_count": 2,
   "metadata": {},
   "outputs": [
    {
     "name": "stdout",
     "output_type": "stream",
     "text": [
      "[]\n"
     ]
    }
   ],
   "source": [
    "a = list()\n",
    "print(a)"
   ]
  },
  {
   "cell_type": "code",
   "execution_count": 5,
   "metadata": {},
   "outputs": [
    {
     "data": {
      "text/plain": [
       "3"
      ]
     },
     "execution_count": 5,
     "metadata": {},
     "output_type": "execute_result"
    }
   ],
   "source": [
    "len(a)"
   ]
  },
  {
   "cell_type": "code",
   "execution_count": 6,
   "metadata": {},
   "outputs": [],
   "source": [
    "# Indexed\n",
    "# ordered\n",
    "# mutable\n",
    "# multiple data can be stored"
   ]
  },
  {
   "cell_type": "code",
   "execution_count": 7,
   "metadata": {},
   "outputs": [
    {
     "data": {
      "text/plain": [
       "'Apple'"
      ]
     },
     "execution_count": 7,
     "metadata": {},
     "output_type": "execute_result"
    }
   ],
   "source": [
    "a = [\"Apple\",\"Ball\",\"Cat\"]\n",
    "a[0]"
   ]
  },
  {
   "cell_type": "code",
   "execution_count": 9,
   "metadata": {},
   "outputs": [
    {
     "data": {
      "text/plain": [
       "'Cat'"
      ]
     },
     "execution_count": 9,
     "metadata": {},
     "output_type": "execute_result"
    }
   ],
   "source": [
    "a[-1]"
   ]
  },
  {
   "cell_type": "code",
   "execution_count": 10,
   "metadata": {},
   "outputs": [
    {
     "data": {
      "text/plain": [
       "['Apple', 'Ball', 'Cat', 'Fish']"
      ]
     },
     "execution_count": 10,
     "metadata": {},
     "output_type": "execute_result"
    }
   ],
   "source": [
    "a = [\"Apple\",\"Ball\",\"Cat\"]\n",
    "b = [\"Fish\"]\n",
    "a+b"
   ]
  },
  {
   "cell_type": "code",
   "execution_count": 11,
   "metadata": {},
   "outputs": [
    {
     "data": {
      "text/plain": [
       "[1, 2, 3, 4, 5, 6]"
      ]
     },
     "execution_count": 11,
     "metadata": {},
     "output_type": "execute_result"
    }
   ],
   "source": [
    "a = [1,2,3,4]\n",
    "b = [5,6]\n",
    "a+b"
   ]
  },
  {
   "cell_type": "code",
   "execution_count": 12,
   "metadata": {},
   "outputs": [
    {
     "data": {
      "text/plain": [
       "[1, 2, 3, 4, 5, 6, 1, 2, 3, 4, 5, 6]"
      ]
     },
     "execution_count": 12,
     "metadata": {},
     "output_type": "execute_result"
    }
   ],
   "source": [
    "a = [1, 2, 3, 4, 5, 6]\n",
    "a*2"
   ]
  },
  {
   "cell_type": "code",
   "execution_count": 13,
   "metadata": {},
   "outputs": [
    {
     "data": {
      "text/plain": [
       "[1, 2, 3, 4, 5, 5]"
      ]
     },
     "execution_count": 13,
     "metadata": {},
     "output_type": "execute_result"
    }
   ],
   "source": [
    "a=[1,2,3,4,5]\n",
    "b = [5]\n",
    "a+b"
   ]
  },
  {
   "cell_type": "code",
   "execution_count": 15,
   "metadata": {},
   "outputs": [
    {
     "name": "stdout",
     "output_type": "stream",
     "text": [
      "Enter values = 5\n",
      "Enter values = Apple\n",
      "Enter values = Ball\n",
      "Enter values = Cat\n",
      "Enter values = Dog\n",
      "Enter values = Fish\n",
      "['Apple', 'Ball', 'Cat', 'Dog', 'Fish']\n"
     ]
    }
   ],
   "source": [
    "a = []\n",
    "n = int(input(\"Enter values = \"))\n",
    "for i in range(n):\n",
    "    x = input(\"Enter values = \")\n",
    "    a = a+[x]\n",
    "    \n",
    "print(a)"
   ]
  },
  {
   "cell_type": "code",
   "execution_count": 16,
   "metadata": {},
   "outputs": [
    {
     "name": "stdout",
     "output_type": "stream",
     "text": [
      "Apple\n",
      "Ball\n",
      "Cat\n",
      "Dog\n",
      "Fish\n"
     ]
    }
   ],
   "source": [
    "for i in a:\n",
    "    print(i)"
   ]
  },
  {
   "cell_type": "code",
   "execution_count": 18,
   "metadata": {},
   "outputs": [
    {
     "data": {
      "text/plain": [
       "['Ant', 'Ball', 'Cat', 'Dog', 'Fish']"
      ]
     },
     "execution_count": 18,
     "metadata": {},
     "output_type": "execute_result"
    }
   ],
   "source": [
    "x = ['Apple', 'Ball', 'Cat', 'Dog', 'Fish']\n",
    "x[0] = \"Ant\"\n",
    "x"
   ]
  },
  {
   "cell_type": "code",
   "execution_count": 19,
   "metadata": {},
   "outputs": [
    {
     "name": "stdout",
     "output_type": "stream",
     "text": [
      "Yes\n"
     ]
    }
   ],
   "source": [
    "# Search\n",
    "x = ['Apple', 'Ball', 'Cat', 'Dog', 'Fish']\n",
    "\n",
    "if \"Apple\" in x:\n",
    "    print(\"Yes\")\n",
    "else:\n",
    "    print(\"No\")"
   ]
  },
  {
   "cell_type": "code",
   "execution_count": 20,
   "metadata": {},
   "outputs": [
    {
     "name": "stdout",
     "output_type": "stream",
     "text": [
      "Enter value for search = Apple\n",
      "Yes 1\n"
     ]
    }
   ],
   "source": [
    "# Search\n",
    "a = ['Apple', 'Ball', 'Cat', 'Dog', 'Fish']\n",
    "\n",
    "search = input(\"Enter value for search = \")\n",
    "\n",
    "if search in a:\n",
    "    print(\"Yes\",a.count(search))\n",
    "else:\n",
    "    print(\"No\")"
   ]
  },
  {
   "cell_type": "code",
   "execution_count": 21,
   "metadata": {},
   "outputs": [
    {
     "name": "stdout",
     "output_type": "stream",
     "text": [
      "Enter how many values = 2\n",
      "Enter name = Ram\n",
      "Enter physics marks= 89\n",
      "Enter chemistry marks= 78\n",
      "Enter math marks= 90\n",
      "Enter english marks= 78\n",
      "Enter nepali marks= 67\n",
      "Enter name = Shyam\n",
      "Enter physics marks= 68\n",
      "Enter chemistry marks= 78\n",
      "Enter math marks= 90\n",
      "Enter english marks= 67\n",
      "Enter nepali marks= 56\n",
      "['Ram 89 78 90 78 67', 'Shyam 68 78 90 67 56']\n"
     ]
    }
   ],
   "source": [
    "info = list()\n",
    "n = int(input(\"Enter how many values = \"))\n",
    "for i in range(n):\n",
    "    name = input(\"Enter name = \")\n",
    "    physics = int(input(\"Enter physics marks= \"))\n",
    "    chemistry = int(input(\"Enter chemistry marks= \"))\n",
    "    math = int(input(\"Enter math marks= \"))\n",
    "    english = int(input(\"Enter english marks= \"))\n",
    "    nepali = int(input(\"Enter nepali marks= \"))\n",
    "    \n",
    "    marks = f\"{name} {physics} {chemistry} {math} {english} {nepali}\"\n",
    "    info = info+[marks]\n",
    "    \n",
    "print(info)"
   ]
  },
  {
   "cell_type": "code",
   "execution_count": 26,
   "metadata": {},
   "outputs": [
    {
     "data": {
      "text/plain": [
       "'Shyam 68 78 90 67 56'"
      ]
     },
     "execution_count": 26,
     "metadata": {},
     "output_type": "execute_result"
    }
   ],
   "source": [
    "info[1]"
   ]
  },
  {
   "cell_type": "code",
   "execution_count": 27,
   "metadata": {},
   "outputs": [],
   "source": [
    "info[0] = 'Ram Prasad 89 78 90 78 67'"
   ]
  },
  {
   "cell_type": "code",
   "execution_count": 28,
   "metadata": {},
   "outputs": [
    {
     "data": {
      "text/plain": [
       "['Ram Prasad 89 78 90 78 67', 'Shyam 68 78 90 67 56']"
      ]
     },
     "execution_count": 28,
     "metadata": {},
     "output_type": "execute_result"
    }
   ],
   "source": [
    "info"
   ]
  },
  {
   "cell_type": "code",
   "execution_count": 29,
   "metadata": {},
   "outputs": [],
   "source": [
    "a = [1,2,3,4]\n",
    "b = 5\n",
    "a.append(b)"
   ]
  },
  {
   "cell_type": "code",
   "execution_count": 30,
   "metadata": {},
   "outputs": [
    {
     "data": {
      "text/plain": [
       "[1, 2, 3, 4, 5]"
      ]
     },
     "execution_count": 30,
     "metadata": {},
     "output_type": "execute_result"
    }
   ],
   "source": [
    "a"
   ]
  },
  {
   "cell_type": "code",
   "execution_count": 31,
   "metadata": {},
   "outputs": [
    {
     "data": {
      "text/plain": [
       "[1, 2, 'Hello', 3, 4, 5]"
      ]
     },
     "execution_count": 31,
     "metadata": {},
     "output_type": "execute_result"
    }
   ],
   "source": [
    "a.insert(2,'Hello')\n",
    "a"
   ]
  },
  {
   "cell_type": "code",
   "execution_count": 33,
   "metadata": {},
   "outputs": [
    {
     "name": "stdout",
     "output_type": "stream",
     "text": [
      "Enter values = 3\n",
      "Enter values = Apple\n",
      "Enter values = Ball\n",
      "Enter values = Cat\n",
      "['Apple', 'Ball', 'Cat']\n"
     ]
    }
   ],
   "source": [
    "a = []\n",
    "n = int(input(\"Enter values = \"))\n",
    "for i in range(n):\n",
    "    x = input(\"Enter values = \")\n",
    "    a.append(x)\n",
    "    \n",
    "print(a)"
   ]
  },
  {
   "cell_type": "code",
   "execution_count": null,
   "metadata": {},
   "outputs": [],
   "source": [
    "info = list()\n",
    "n = int(input(\"Enter how many values = \"))\n",
    "for i in range(n):\n",
    "    name = input(\"Enter name = \")\n",
    "    physics = int(input(\"Enter physics marks= \"))\n",
    "    chemistry = int(input(\"Enter chemistry marks= \"))\n",
    "    math = int(input(\"Enter math marks= \"))\n",
    "    english = int(input(\"Enter english marks= \"))\n",
    "    nepali = int(input(\"Enter nepali marks= \"))\n",
    "    \n",
    "    marks = f\"{name} {physics} {chemistry} {math} {english} {nepali}\"\n",
    "    info = info+.append(marks)\n",
    "    \n",
    "print(info)"
   ]
  },
  {
   "cell_type": "code",
   "execution_count": 34,
   "metadata": {},
   "outputs": [
    {
     "data": {
      "text/plain": [
       "['Ram Prasad 89 78 90 78 67', 'Shyam 68 78 90 67 56', 'Nabin 68 78 90 67 56']"
      ]
     },
     "execution_count": 34,
     "metadata": {},
     "output_type": "execute_result"
    }
   ],
   "source": [
    "a = ['Ram Prasad 89 78 90 78 67', 'Shyam 68 78 90 67 56']\n",
    "a.append('Nabin 68 78 90 67 56')\n",
    "a"
   ]
  },
  {
   "cell_type": "code",
   "execution_count": 36,
   "metadata": {},
   "outputs": [
    {
     "data": {
      "text/plain": [
       "['Ram Prasad 89 78 90 78 67',\n",
       " 'Nabina 68 78 90 67 56',\n",
       " 'Shyam 68 78 90 67 56',\n",
       " 'Nabin 68 78 90 67 56']"
      ]
     },
     "execution_count": 36,
     "metadata": {},
     "output_type": "execute_result"
    }
   ],
   "source": [
    "a = ['Ram Prasad 89 78 90 78 67', 'Shyam 68 78 90 67 56', 'Nabin 68 78 90 67 56']\n",
    "\n",
    "a.insert(1,'Nabina 68 78 90 67 56')\n",
    "a"
   ]
  },
  {
   "cell_type": "code",
   "execution_count": 37,
   "metadata": {},
   "outputs": [
    {
     "data": {
      "text/plain": [
       "['Ball', 'Cat']"
      ]
     },
     "execution_count": 37,
     "metadata": {},
     "output_type": "execute_result"
    }
   ],
   "source": [
    "# del\n",
    "# remove\n",
    "# pop\n",
    "a = ['Apple', 'Ball', 'Cat']\n",
    "del a[0]\n",
    "a"
   ]
  },
  {
   "cell_type": "code",
   "execution_count": 38,
   "metadata": {},
   "outputs": [
    {
     "data": {
      "text/plain": [
       "['Dog', 'Fish']"
      ]
     },
     "execution_count": 38,
     "metadata": {},
     "output_type": "execute_result"
    }
   ],
   "source": [
    "a = ['Apple', 'Ball', 'Cat','Dog','Fish']\n",
    "del a[0:3]\n",
    "a"
   ]
  },
  {
   "cell_type": "code",
   "execution_count": 39,
   "metadata": {},
   "outputs": [
    {
     "data": {
      "text/plain": [
       "['Apple', 'Cat', 'Dog', 'Fish']"
      ]
     },
     "execution_count": 39,
     "metadata": {},
     "output_type": "execute_result"
    }
   ],
   "source": [
    "a = ['Apple', 'Ball', 'Cat','Dog','Fish']\n",
    "a.remove('Ball')\n",
    "a"
   ]
  },
  {
   "cell_type": "code",
   "execution_count": 42,
   "metadata": {},
   "outputs": [
    {
     "name": "stdout",
     "output_type": "stream",
     "text": [
      "['Apple', 'Cat', 'Dog', 'Fish']\n"
     ]
    }
   ],
   "source": [
    "a = ['Apple', 'Ball', 'Cat','Dog','Fish']\n",
    "a.pop(1)\n",
    "print(a)"
   ]
  },
  {
   "cell_type": "code",
   "execution_count": 41,
   "metadata": {},
   "outputs": [
    {
     "data": {
      "text/plain": [
       "['Apple', 'Cat', 'Dog', 'Fish']"
      ]
     },
     "execution_count": 41,
     "metadata": {},
     "output_type": "execute_result"
    }
   ],
   "source": [
    "a"
   ]
  },
  {
   "cell_type": "code",
   "execution_count": 43,
   "metadata": {},
   "outputs": [
    {
     "name": "stdout",
     "output_type": "stream",
     "text": [
      "['Apple', 'Cat', 'Dog', 'Fish']\n",
      "Ball\n"
     ]
    }
   ],
   "source": [
    "a = ['Apple', 'Ball', 'Cat','Dog','Fish']\n",
    "b = a.pop(1)\n",
    "print(a)\n",
    "print(b)"
   ]
  },
  {
   "cell_type": "code",
   "execution_count": 44,
   "metadata": {},
   "outputs": [
    {
     "data": {
      "text/plain": [
       "[]"
      ]
     },
     "execution_count": 44,
     "metadata": {},
     "output_type": "execute_result"
    }
   ],
   "source": [
    "a = ['Apple', 'Ball', 'Cat','Dog','Fish']\n",
    "a.clear()\n",
    "a"
   ]
  },
  {
   "cell_type": "code",
   "execution_count": 45,
   "metadata": {},
   "outputs": [
    {
     "ename": "NameError",
     "evalue": "name 'a' is not defined",
     "output_type": "error",
     "traceback": [
      "\u001b[1;31m---------------------------------------------------------------------------\u001b[0m",
      "\u001b[1;31mNameError\u001b[0m                                 Traceback (most recent call last)",
      "\u001b[1;32m<ipython-input-45-7b2d29f3c045>\u001b[0m in \u001b[0;36m<module>\u001b[1;34m\u001b[0m\n\u001b[0;32m      1\u001b[0m \u001b[0ma\u001b[0m \u001b[1;33m=\u001b[0m \u001b[1;33m[\u001b[0m\u001b[1;34m'Apple'\u001b[0m\u001b[1;33m,\u001b[0m \u001b[1;34m'Ball'\u001b[0m\u001b[1;33m,\u001b[0m \u001b[1;34m'Cat'\u001b[0m\u001b[1;33m,\u001b[0m\u001b[1;34m'Dog'\u001b[0m\u001b[1;33m,\u001b[0m\u001b[1;34m'Fish'\u001b[0m\u001b[1;33m]\u001b[0m\u001b[1;33m\u001b[0m\u001b[1;33m\u001b[0m\u001b[0m\n\u001b[0;32m      2\u001b[0m \u001b[1;32mdel\u001b[0m \u001b[0ma\u001b[0m\u001b[1;33m\u001b[0m\u001b[1;33m\u001b[0m\u001b[0m\n\u001b[1;32m----> 3\u001b[1;33m \u001b[0mprint\u001b[0m\u001b[1;33m(\u001b[0m\u001b[0ma\u001b[0m\u001b[1;33m)\u001b[0m\u001b[1;33m\u001b[0m\u001b[1;33m\u001b[0m\u001b[0m\n\u001b[0m",
      "\u001b[1;31mNameError\u001b[0m: name 'a' is not defined"
     ]
    }
   ],
   "source": [
    "a = ['Apple', 'Ball', 'Cat','Dog','Fish']\n",
    "del a\n",
    "print(a)"
   ]
  },
  {
   "cell_type": "code",
   "execution_count": 48,
   "metadata": {},
   "outputs": [
    {
     "data": {
      "text/plain": [
       "['Apple', 'Ball', 'Cat']"
      ]
     },
     "execution_count": 48,
     "metadata": {},
     "output_type": "execute_result"
    }
   ],
   "source": [
    "a = \"Apple.Ball.Cat\"\n",
    "a.split('.')"
   ]
  },
  {
   "cell_type": "code",
   "execution_count": 49,
   "metadata": {},
   "outputs": [
    {
     "data": {
      "text/plain": [
       "['Ram 45 Patan', 'Shyam 34 Kathmandu', 'Hari 34 Patan']"
      ]
     },
     "execution_count": 49,
     "metadata": {},
     "output_type": "execute_result"
    }
   ],
   "source": [
    "a = \"Ram 45 Patan,Shyam 34 Kathmandu,Hari 34 Patan\"\n",
    "a.split(',')"
   ]
  },
  {
   "cell_type": "code",
   "execution_count": 54,
   "metadata": {},
   "outputs": [],
   "source": [
    "a=['Ram','Shyam','Hari','Sita','Ram','Ram']\n",
    "a.remove('Ram')"
   ]
  },
  {
   "cell_type": "code",
   "execution_count": 55,
   "metadata": {},
   "outputs": [
    {
     "data": {
      "text/plain": [
       "['Shyam', 'Hari', 'Sita', 'Ram', 'Ram']"
      ]
     },
     "execution_count": 55,
     "metadata": {},
     "output_type": "execute_result"
    }
   ],
   "source": [
    "a"
   ]
  },
  {
   "cell_type": "code",
   "execution_count": 57,
   "metadata": {},
   "outputs": [
    {
     "name": "stdout",
     "output_type": "stream",
     "text": [
      "['Shyam', 'Hari', 'Sita', 'Ram']\n"
     ]
    }
   ],
   "source": [
    "a=['Ram','Shyam','Hari','Sita','Ram','Ram']\n",
    "# n = a.count('Ram')\n",
    "for i in a:\n",
    "    if i =='Ram':\n",
    "        a.remove('Ram')\n",
    "        \n",
    "print(a)"
   ]
  },
  {
   "cell_type": "code",
   "execution_count": 61,
   "metadata": {},
   "outputs": [
    {
     "name": "stdout",
     "output_type": "stream",
     "text": [
      "['Ram', 'Shyam', 'Hari', 'Sita', 'Ram', 'Ram']\n",
      "['Shyam', 'Hari', 'Sita', 'Ram', 'Ram']\n",
      "['Shyam', 'Hari', 'Sita', 'Ram']\n",
      "['Shyam', 'Hari', 'Sita']\n"
     ]
    }
   ],
   "source": [
    "a=['Ram','Shyam','Hari','Sita','Ram','Ram']\n",
    "n = a.count('Ram')\n",
    "for i in range(n):\n",
    "    print(a)\n",
    "    a.remove('Ram')\n",
    "        \n",
    "print(a)"
   ]
  },
  {
   "cell_type": "code",
   "execution_count": 62,
   "metadata": {},
   "outputs": [
    {
     "name": "stdout",
     "output_type": "stream",
     "text": [
      "['Ram', 'Shyam', 'Hari', 'Sita', 'Ram', 'Ram']\n",
      "['Shyam', 'Hari', 'Sita', 'Ram', 'Ram']\n",
      "['Shyam', 'Hari', 'Sita', 'Ram']\n"
     ]
    }
   ],
   "source": [
    "a=['Ram','Shyam','Hari','Sita','Ram','Ram']\n",
    "n = a.count('Ram')\n",
    "for i in range(n-1):\n",
    "    print(a)\n",
    "    a.remove('Ram')\n",
    "        \n",
    "print(a)"
   ]
  },
  {
   "cell_type": "code",
   "execution_count": 63,
   "metadata": {},
   "outputs": [
    {
     "data": {
      "text/plain": [
       "0"
      ]
     },
     "execution_count": 63,
     "metadata": {},
     "output_type": "execute_result"
    }
   ],
   "source": [
    "# index()\n",
    "a = ['Shyam', 'Hari', 'Sita', 'Ram']\n",
    "a.index('Shyam')"
   ]
  },
  {
   "cell_type": "code",
   "execution_count": 69,
   "metadata": {},
   "outputs": [
    {
     "name": "stdout",
     "output_type": "stream",
     "text": [
      "Enter name = Ram\n",
      "0\n",
      "4\n",
      "5\n",
      "[0, 4, 5]\n"
     ]
    }
   ],
   "source": [
    "a=['Ram','Shyam','Hari','Sita','Ram','Ram']\n",
    "index = []\n",
    "x = input(\"Enter name = \")\n",
    "n = len(a)\n",
    "for i in range(n):\n",
    "    if a[i] == x:\n",
    "        print(i)\n",
    "        index.append(i)\n",
    "        \n",
    "print(index)"
   ]
  },
  {
   "cell_type": "code",
   "execution_count": 70,
   "metadata": {},
   "outputs": [
    {
     "name": "stdout",
     "output_type": "stream",
     "text": [
      "Enter name = RAM\n",
      "0\n",
      "4\n",
      "5\n",
      "[0, 4, 5]\n"
     ]
    }
   ],
   "source": [
    "a=['Ram','Shyam','Hari','Sita','Ram','Ram']\n",
    "index = []\n",
    "x = input(\"Enter name = \").lower()\n",
    "n = len(a)\n",
    "for i in range(n):\n",
    "    if a[i].lower() == x:\n",
    "        print(i)\n",
    "        index.append(i)\n",
    "        \n",
    "print(index)"
   ]
  },
  {
   "cell_type": "code",
   "execution_count": null,
   "metadata": {},
   "outputs": [],
   "source": []
  }
 ],
 "metadata": {
  "kernelspec": {
   "display_name": "Python 3",
   "language": "python",
   "name": "python3"
  },
  "language_info": {
   "codemirror_mode": {
    "name": "ipython",
    "version": 3
   },
   "file_extension": ".py",
   "mimetype": "text/x-python",
   "name": "python",
   "nbconvert_exporter": "python",
   "pygments_lexer": "ipython3",
   "version": "3.7.1"
  }
 },
 "nbformat": 4,
 "nbformat_minor": 2
}
