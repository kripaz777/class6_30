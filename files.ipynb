{
 "cells": [
  {
   "cell_type": "code",
   "execution_count": 1,
   "metadata": {},
   "outputs": [],
   "source": [
    "# z = open(<file_name>,<mode>)\n",
    "# z.close()"
   ]
  },
  {
   "cell_type": "code",
   "execution_count": 2,
   "metadata": {},
   "outputs": [],
   "source": [
    "z = open('class630am.txt','x')"
   ]
  },
  {
   "cell_type": "code",
   "execution_count": 1,
   "metadata": {},
   "outputs": [
    {
     "name": "stdout",
     "output_type": "stream",
     "text": [
      "The file is already there.\n"
     ]
    }
   ],
   "source": [
    "try:\n",
    "    z = open('class630am.txt','x')\n",
    "    z.close()\n",
    "except:\n",
    "    print(\"The file is already there.\")"
   ]
  },
  {
   "cell_type": "code",
   "execution_count": 2,
   "metadata": {},
   "outputs": [
    {
     "name": "stdout",
     "output_type": "stream",
     "text": [
      "<class 'str'>\n",
      "1.Hello World\n",
      "2.Hello World\n",
      "3.Hello World\n",
      "4.Hello World\n",
      "5.Hello World\n",
      "6.Hello World\n",
      "8.Hello World\n",
      "9.Hello World\n"
     ]
    }
   ],
   "source": [
    "z = open('class630am.txt','r')\n",
    "data = z.read()\n",
    "print(type(data))\n",
    "print(data)\n",
    "z.close()"
   ]
  },
  {
   "cell_type": "code",
   "execution_count": 3,
   "metadata": {},
   "outputs": [
    {
     "name": "stdout",
     "output_type": "stream",
     "text": [
      "<class 'str'>\n",
      "1.Hello World\n",
      "2.Hello World\n",
      "3.Hello World\n",
      "4.Hello \n"
     ]
    }
   ],
   "source": [
    "z = open('class630am.txt','r')\n",
    "data = z.read(50)\n",
    "print(type(data))\n",
    "print(data)\n",
    "z.close()"
   ]
  },
  {
   "cell_type": "code",
   "execution_count": 4,
   "metadata": {},
   "outputs": [
    {
     "name": "stdout",
     "output_type": "stream",
     "text": [
      "3.Hello World\n",
      "\n"
     ]
    }
   ],
   "source": [
    "z = open('class630am.txt','r')\n",
    "z.readline()\n",
    "z.readline()\n",
    "print(z.readline())\n",
    "z.close()"
   ]
  },
  {
   "cell_type": "code",
   "execution_count": 5,
   "metadata": {},
   "outputs": [
    {
     "name": "stdout",
     "output_type": "stream",
     "text": [
      "Enter n = 2\n",
      "Enter line no = 1\n",
      "1.Hello World\n",
      "\n"
     ]
    }
   ],
   "source": [
    "z = open('class630am.txt','r')\n",
    "n = int(input(\"Enter n = \"))\n",
    "line = int(input(\"Enter line no = \"))\n",
    "for i in range(1,n+1):\n",
    "    if i == line:\n",
    "        print(z.readline())\n",
    "    z.readline()\n",
    "z.close()"
   ]
  },
  {
   "cell_type": "code",
   "execution_count": 31,
   "metadata": {},
   "outputs": [
    {
     "name": "stdout",
     "output_type": "stream",
     "text": [
      "Enter n =2\n",
      "Enter name = Ram\n",
      "Enter age =78\n",
      "Enter address = Patan\n",
      "Enter name = Shyam\n",
      "Enter age =67\n",
      "Enter address = Kathmandu\n"
     ]
    }
   ],
   "source": [
    "z = open('class630am_data.txt','a')\n",
    "n = int(input(\"Enter n =\"))\n",
    "infos = \"\"\n",
    "for i in range(n):\n",
    "    name = input(\"Enter name = \")\n",
    "    age = int(input(\"Enter age =\"))\n",
    "    add = input(\"Enter address = \")\n",
    "    info = f\"{name} {age} {add}\\n\"\n",
    "    infos = infos+info\n",
    "z.write(infos)\n",
    "z.close()"
   ]
  },
  {
   "cell_type": "code",
   "execution_count": 33,
   "metadata": {},
   "outputs": [
    {
     "name": "stdout",
     "output_type": "stream",
     "text": [
      "Enter n = 2\n",
      "Enter line no = 1\n",
      "1 Ram 78 Patan\n",
      "\n"
     ]
    }
   ],
   "source": [
    "z = open('class630am_data.txt','r')\n",
    "n = int(input(\"Enter n = \"))\n",
    "line = int(input(\"Enter line no = \"))\n",
    "for i in range(1,n+1):\n",
    "    if i == line:\n",
    "        print(z.readline())\n",
    "    z.readline()\n",
    "z.close()"
   ]
  },
  {
   "cell_type": "code",
   "execution_count": 6,
   "metadata": {},
   "outputs": [
    {
     "name": "stdout",
     "output_type": "stream",
     "text": [
      "1  78 Patan\n",
      "2 Shyam 67 Kathmandu\n",
      "\n"
     ]
    }
   ],
   "source": [
    "z = open('class630am_data.txt','r')\n",
    "data = z.read()\n",
    "print(data)\n",
    "\n",
    "# z.write(infos)\n",
    "z.close()"
   ]
  },
  {
   "cell_type": "code",
   "execution_count": 7,
   "metadata": {},
   "outputs": [
    {
     "name": "stdout",
     "output_type": "stream",
     "text": [
      "1  78 Patan\n",
      "2 Shyam 67 Kathmandu\n",
      "\n"
     ]
    }
   ],
   "source": [
    "print(data)"
   ]
  },
  {
   "cell_type": "code",
   "execution_count": 8,
   "metadata": {},
   "outputs": [
    {
     "name": "stdout",
     "output_type": "stream",
     "text": [
      "1  78 Patan\n",
      "2 Shyam 67 Kathmandu\n",
      "\n"
     ]
    }
   ],
   "source": [
    "edit = data.replace('Hari','')\n",
    "print(edit)"
   ]
  },
  {
   "cell_type": "code",
   "execution_count": 9,
   "metadata": {},
   "outputs": [],
   "source": [
    "z = open('class630am_data.txt','w')\n",
    "z.write(edit)\n",
    "z.close()"
   ]
  },
  {
   "cell_type": "code",
   "execution_count": 10,
   "metadata": {},
   "outputs": [
    {
     "name": "stdout",
     "output_type": "stream",
     "text": [
      "Enter n =3\n",
      "Enter name = Ram\n",
      "Enter age =78\n",
      "Enter address = Kathmandu\n",
      "Enter name = Shyam\n",
      "Enter age =45\n",
      "Enter address = Bara\n",
      "Enter name = Hari\n",
      "Enter age =56\n",
      "Enter address = Patan\n"
     ]
    }
   ],
   "source": [
    "z = open('class630am_data.txt','w')\n",
    "n = int(input(\"Enter n =\"))\n",
    "infos = \"\"\n",
    "for i in range(n):\n",
    "    name = input(\"Enter name = \")\n",
    "    age = int(input(\"Enter age =\"))\n",
    "    add = input(\"Enter address = \")\n",
    "    info = f\"{name} {age} {add}\\n\"\n",
    "    infos = infos+info\n",
    "z.write(infos)\n",
    "z.close()"
   ]
  },
  {
   "cell_type": "code",
   "execution_count": 11,
   "metadata": {},
   "outputs": [
    {
     "name": "stdout",
     "output_type": "stream",
     "text": [
      "Ram 78 Kathmandu\n",
      "Shyam 45 Bara\n",
      "Hari 56 Patan\n",
      "\n"
     ]
    }
   ],
   "source": [
    "z = open('class630am_data.txt','r')\n",
    "data = z.read()\n",
    "print(data)\n",
    "z.close()"
   ]
  },
  {
   "cell_type": "code",
   "execution_count": 12,
   "metadata": {},
   "outputs": [
    {
     "name": "stdout",
     "output_type": "stream",
     "text": [
      "Ram Prasad 78 Kathmandu\n",
      "Shyam 45 Bara\n",
      "Hari 56 Patan\n",
      "\n"
     ]
    }
   ],
   "source": [
    "edit = data.replace('Ram 78','Ram Prasad 78')\n",
    "print(edit)"
   ]
  },
  {
   "cell_type": "code",
   "execution_count": 13,
   "metadata": {},
   "outputs": [],
   "source": [
    "z = open('class630am_data.txt','w')\n",
    "z.write(edit)\n",
    "z.close()"
   ]
  },
  {
   "cell_type": "code",
   "execution_count": 14,
   "metadata": {},
   "outputs": [
    {
     "name": "stdout",
     "output_type": "stream",
     "text": [
      "Ram Prasad 78 Kathmandu\n",
      "Shyam 45 Bara\n",
      "Hari 56 Patan\n",
      "\n",
      "Enter value for search = Hari\n",
      "Yes 1\n"
     ]
    }
   ],
   "source": [
    "# Search\n",
    "z = open('class630am_data.txt','r')\n",
    "data = z.read()\n",
    "print(data)\n",
    "z.close()\n",
    "\n",
    "\n",
    "search = input(\"Enter value for search = \")\n",
    "\n",
    "if search in data:\n",
    "    print(\"Yes\",data.count(search))\n",
    "else:\n",
    "    print(\"No\")"
   ]
  },
  {
   "cell_type": "code",
   "execution_count": 15,
   "metadata": {},
   "outputs": [
    {
     "name": "stdout",
     "output_type": "stream",
     "text": [
      "Enter how many values = 3\n",
      "Enter name = Ram\n",
      "Enter physics marks= 89\n",
      "Enter chemistry marks= 67\n",
      "Enter math marks= 78\n",
      "Enter english marks= 56\n",
      "Enter nepali marks= 90\n",
      "Enter name = Hari\n",
      "Enter physics marks= 67\n",
      "Enter chemistry marks= 90\n",
      "Enter math marks= 78\n",
      "Enter english marks= 87\n",
      "Enter nepali marks= 67\n",
      "Enter name = Nabin\n",
      "Enter physics marks= 67\n",
      "Enter chemistry marks= 90\n",
      "Enter math marks= 45\n",
      "Enter english marks= 78\n",
      "Enter nepali marks= 35\n",
      "Ram 89 67 78 56 90\n",
      "Hari 67 90 78 87 67\n",
      "Nabin 67 90 45 78 35\n",
      "\n"
     ]
    }
   ],
   "source": [
    "info = \"\"\n",
    "n = int(input(\"Enter how many values = \"))\n",
    "for i in range(n):\n",
    "    name = input(\"Enter name = \")\n",
    "    physics = int(input(\"Enter physics marks= \"))\n",
    "    chemistry = int(input(\"Enter chemistry marks= \"))\n",
    "    math = int(input(\"Enter math marks= \"))\n",
    "    english = int(input(\"Enter english marks= \"))\n",
    "    nepali = int(input(\"Enter nepali marks= \"))\n",
    "    \n",
    "    marks = f\"{name} {physics} {chemistry} {math} {english} {nepali}\\n\"\n",
    "    info = info+marks\n",
    "    \n",
    "    print(info)\n",
    "    z = open(f'class630am_result{i}.txt','w')\n",
    "    z.write(info)\n",
    "    z.close()"
   ]
  },
  {
   "cell_type": "code",
   "execution_count": 18,
   "metadata": {},
   "outputs": [],
   "source": [
    "for i in range(n):\n",
    "    z = open(f'class630am_result{i}.txt','x')\n",
    "    z.write(info)\n",
    "    z.close()"
   ]
  },
  {
   "cell_type": "code",
   "execution_count": 19,
   "metadata": {},
   "outputs": [
    {
     "name": "stdout",
     "output_type": "stream",
     "text": [
      "ram prasad 78 kathmandu\n",
      "shyam 45 bara\n",
      "hari 56 patan\n",
      "\n",
      "Enter value for search = RaM\n",
      "Yes 1\n"
     ]
    }
   ],
   "source": [
    "# Search\n",
    "z = open('class630am_data.txt','r')\n",
    "data = z.read().lower()\n",
    "print(data)\n",
    "z.close()\n",
    "\n",
    "\n",
    "search = input(\"Enter value for search = \").lower()\n",
    "\n",
    "if search in data:\n",
    "    print(\"Yes\",data.count(search))\n",
    "else:\n",
    "    print(\"No\")"
   ]
  },
  {
   "cell_type": "code",
   "execution_count": null,
   "metadata": {},
   "outputs": [],
   "source": [
    "info = \"\"\n",
    "n = int(input(\"Enter how many values = \"))\n",
    "for i in range(n):\n",
    "    name = input(\"Enter name = \")\n",
    "    physics = int(input(\"Enter physics marks= \"))\n",
    "    chemistry = int(input(\"Enter chemistry marks= \"))\n",
    "    math = int(input(\"Enter math marks= \"))\n",
    "    english = int(input(\"Enter english marks= \"))\n",
    "    nepali = int(input(\"Enter nepali marks= \"))\n",
    "    \n",
    "    marks = f\"{name} {physics} {chemistry} {math} {english} {nepali}\\n\"\n",
    "    info = info+marks\n",
    "    \n",
    "    print(info)\n",
    "    z = open(f'class630am_result{i}.txt','w')\n",
    "    z.write(info)\n",
    "    z.close()"
   ]
  },
  {
   "cell_type": "code",
   "execution_count": 21,
   "metadata": {},
   "outputs": [
    {
     "name": "stdout",
     "output_type": "stream",
     "text": [
      "Ram 89 67 78 56 90\n",
      "Hari 67 90 78 87 67\n",
      "Nabin 67 90 45 78 35\n"
     ]
    }
   ],
   "source": [
    "data = \"Ram 89 67 78 56 90\\nHari 67 90 78 87 67\\nNabin 67 90 45 78 35\"\n",
    "print(data)"
   ]
  },
  {
   "cell_type": "code",
   "execution_count": 26,
   "metadata": {},
   "outputs": [],
   "source": [
    "data = data.split(\"\\n\")"
   ]
  },
  {
   "cell_type": "code",
   "execution_count": 27,
   "metadata": {},
   "outputs": [
    {
     "data": {
      "text/plain": [
       "['Ram 89 67 78 56 90', 'Hari 67 90 78 87 67', 'Nabin 67 90 45 78 35']"
      ]
     },
     "execution_count": 27,
     "metadata": {},
     "output_type": "execute_result"
    }
   ],
   "source": [
    "data"
   ]
  },
  {
   "cell_type": "code",
   "execution_count": 28,
   "metadata": {},
   "outputs": [
    {
     "data": {
      "text/plain": [
       "'Ram 89 67 78 56 90'"
      ]
     },
     "execution_count": 28,
     "metadata": {},
     "output_type": "execute_result"
    }
   ],
   "source": [
    "data[0]"
   ]
  },
  {
   "cell_type": "code",
   "execution_count": 29,
   "metadata": {},
   "outputs": [],
   "source": [
    "# File management"
   ]
  },
  {
   "cell_type": "code",
   "execution_count": 30,
   "metadata": {},
   "outputs": [],
   "source": [
    "import os\n",
    "try:\n",
    "    os.remove('class630am_data.txt')\n",
    "except:\n",
    "    print(\"There is no file.\")"
   ]
  },
  {
   "cell_type": "code",
   "execution_count": 32,
   "metadata": {},
   "outputs": [],
   "source": [
    "import os\n",
    "try:\n",
    "    for i in range(3):\n",
    "        os.remove(f'class630am_result{i}.txt')\n",
    "except:\n",
    "    print(\"There is no file.\")"
   ]
  },
  {
   "cell_type": "code",
   "execution_count": 33,
   "metadata": {},
   "outputs": [
    {
     "name": "stdout",
     "output_type": "stream",
     "text": [
      "File is removed.\n"
     ]
    }
   ],
   "source": [
    "import os\n",
    "if os.path.exists('class6pm1.txt'):\n",
    "    os.remove('class6pm1.txt')\n",
    "    print(\"File is removed.\")\n",
    "    \n",
    "else:\n",
    "    print(\"There is no file\")\n"
   ]
  },
  {
   "cell_type": "code",
   "execution_count": 34,
   "metadata": {},
   "outputs": [
    {
     "data": {
      "text/plain": [
       "'Untitled Folder 1\\\\class6pm.txt'"
      ]
     },
     "execution_count": 34,
     "metadata": {},
     "output_type": "execute_result"
    }
   ],
   "source": [
    "import shutil as s\n",
    "src = \"class6pm.txt\"\n",
    "dst = \"Untitled Folder 1\"\n",
    "s.copy(src,dst)"
   ]
  },
  {
   "cell_type": "code",
   "execution_count": 37,
   "metadata": {},
   "outputs": [
    {
     "data": {
      "text/plain": [
       "'Untitled Folder 3'"
      ]
     },
     "execution_count": 37,
     "metadata": {},
     "output_type": "execute_result"
    }
   ],
   "source": [
    "import shutil as s\n",
    "src = \"Untitled Folder 1\"\n",
    "dst = \"Untitled Folder 3\"\n",
    "s.copytree(src,dst)"
   ]
  },
  {
   "cell_type": "code",
   "execution_count": 38,
   "metadata": {},
   "outputs": [
    {
     "data": {
      "text/plain": [
       "'Untitled Folder 3/new'"
      ]
     },
     "execution_count": 38,
     "metadata": {},
     "output_type": "execute_result"
    }
   ],
   "source": [
    "import shutil as s\n",
    "src = \"Untitled Folder 1\"\n",
    "dst = \"Untitled Folder 3/new\"\n",
    "s.copytree(src,dst)"
   ]
  },
  {
   "cell_type": "code",
   "execution_count": 42,
   "metadata": {},
   "outputs": [
    {
     "data": {
      "text/plain": [
       "'Untitled Folder 6/'"
      ]
     },
     "execution_count": 42,
     "metadata": {},
     "output_type": "execute_result"
    }
   ],
   "source": [
    "import shutil as s\n",
    "src = \"Untitled Folder 1\"\n",
    "dst = \"Untitled Folder 6/\"\n",
    "s.move(src,dst)"
   ]
  },
  {
   "cell_type": "code",
   "execution_count": 43,
   "metadata": {},
   "outputs": [],
   "source": [
    "import os\n",
    "os.rename('Untitled Folde1','Folde1')"
   ]
  },
  {
   "cell_type": "code",
   "execution_count": null,
   "metadata": {},
   "outputs": [],
   "source": []
  }
 ],
 "metadata": {
  "kernelspec": {
   "display_name": "Python 3",
   "language": "python",
   "name": "python3"
  },
  "language_info": {
   "codemirror_mode": {
    "name": "ipython",
    "version": 3
   },
   "file_extension": ".py",
   "mimetype": "text/x-python",
   "name": "python",
   "nbconvert_exporter": "python",
   "pygments_lexer": "ipython3",
   "version": "3.7.1"
  }
 },
 "nbformat": 4,
 "nbformat_minor": 2
}
